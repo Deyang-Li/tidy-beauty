{
 "cells": [
  {
   "cell_type": "code",
   "execution_count": 1,
   "metadata": {},
   "outputs": [
    {
     "name": "stderr",
     "output_type": "stream",
     "text": [
      "-- \u001b[1mAttaching packages\u001b[22m --------------------------------------- tidyverse 1.2.1 --\n",
      "\u001b[32mv\u001b[39m \u001b[34mggplot2\u001b[39m 3.2.0     \u001b[32mv\u001b[39m \u001b[34mpurrr  \u001b[39m 0.3.2\n",
      "\u001b[32mv\u001b[39m \u001b[34mtibble \u001b[39m 2.1.3     \u001b[32mv\u001b[39m \u001b[34mdplyr  \u001b[39m 0.8.3\n",
      "\u001b[32mv\u001b[39m \u001b[34mtidyr  \u001b[39m 0.8.3     \u001b[32mv\u001b[39m \u001b[34mstringr\u001b[39m 1.4.0\n",
      "\u001b[32mv\u001b[39m \u001b[34mreadr  \u001b[39m 1.3.1     \u001b[32mv\u001b[39m \u001b[34mforcats\u001b[39m 0.4.0\n",
      "-- \u001b[1mConflicts\u001b[22m ------------------------------------------ tidyverse_conflicts() --\n",
      "\u001b[31mx\u001b[39m \u001b[34mdplyr\u001b[39m::\u001b[32mfilter()\u001b[39m masks \u001b[34mstats\u001b[39m::filter()\n",
      "\u001b[31mx\u001b[39m \u001b[34mdplyr\u001b[39m::\u001b[32mlag()\u001b[39m    masks \u001b[34mstats\u001b[39m::lag()\n"
     ]
    }
   ],
   "source": [
    "library(tidyverse)"
   ]
  },
  {
   "cell_type": "code",
   "execution_count": 2,
   "metadata": {},
   "outputs": [
    {
     "name": "stderr",
     "output_type": "stream",
     "text": [
      "\n",
      "Attaching package: 'skimr'\n",
      "\n",
      "The following object is masked from 'package:stats':\n",
      "\n",
      "    filter\n",
      "\n"
     ]
    }
   ],
   "source": [
    "library(skimr)"
   ]
  },
  {
   "cell_type": "code",
   "execution_count": 3,
   "metadata": {},
   "outputs": [],
   "source": [
    "#Import the new-animals_all.csv dataset into R as a dataframe, \n",
    "#and then Then perform the routine checks about the types of the columns, the missing values, and output a quick summary of the dataset."
   ]
  },
  {
   "cell_type": "code",
   "execution_count": 4,
   "metadata": {},
   "outputs": [
    {
     "name": "stderr",
     "output_type": "stream",
     "text": [
      "Parsed with column specification:\n",
      "cols(\n",
      "  index = \u001b[32mcol_double()\u001b[39m,\n",
      "  `Common Name` = \u001b[31mcol_character()\u001b[39m,\n",
      "  `Endangered Animals of Area` = \u001b[31mcol_character()\u001b[39m,\n",
      "  `Scientific Name:` = \u001b[31mcol_character()\u001b[39m,\n",
      "  `Other Names and/or Listed subspecies:` = \u001b[31mcol_character()\u001b[39m,\n",
      "  `Group:` = \u001b[31mcol_character()\u001b[39m,\n",
      "  `Status/Date Listed as Endangered:` = \u001b[31mcol_character()\u001b[39m,\n",
      "  `Area(s) Where Listed As Endangered:` = \u001b[31mcol_character()\u001b[39m,\n",
      "  Area = \u001b[31mcol_character()\u001b[39m,\n",
      "  Status = \u001b[31mcol_character()\u001b[39m\n",
      ")\n"
     ]
    }
   ],
   "source": [
    "new_animal <- read_csv(\"new-animals_all.csv\")"
   ]
  },
  {
   "cell_type": "code",
   "execution_count": 5,
   "metadata": {},
   "outputs": [
    {
     "name": "stdout",
     "output_type": "stream",
     "text": [
      "Observations: 1,329\n",
      "Variables: 10\n",
      "$ index                                   \u001b[3m\u001b[90m<dbl>\u001b[39m\u001b[23m 1, 2, 3, 4, 5, 6, 7, 8, 9, ...\n",
      "$ `Common Name`                           \u001b[3m\u001b[90m<chr>\u001b[39m\u001b[23m \"Abbott's Duiker\", \"Aberdar...\n",
      "$ `Endangered Animals of Area`            \u001b[3m\u001b[90m<chr>\u001b[39m\u001b[23m \"Endangered Mammals of Afri...\n",
      "$ `Scientific Name:`                      \u001b[3m\u001b[90m<chr>\u001b[39m\u001b[23m \"Cephalophus spadix\", \"Surd...\n",
      "$ `Other Names and/or Listed subspecies:` \u001b[3m\u001b[90m<chr>\u001b[39m\u001b[23m \"Minde\", \"Aberdare Shrew\", ...\n",
      "$ `Group:`                                \u001b[3m\u001b[90m<chr>\u001b[39m\u001b[23m \"Mammals\", \"Mammals\", \"Mamm...\n",
      "$ `Status/Date Listed as Endangered:`     \u001b[3m\u001b[90m<chr>\u001b[39m\u001b[23m \"EN-IUCN: 2008\", \"VU-IUCN: ...\n",
      "$ `Area(s) Where Listed As Endangered:`   \u001b[3m\u001b[90m<chr>\u001b[39m\u001b[23m \"Tanzania\", \"Kenya\", \"North...\n",
      "$ Area                                    \u001b[3m\u001b[90m<chr>\u001b[39m\u001b[23m \"Africa\", \"Africa\", \"Africa...\n",
      "$ Status                                  \u001b[3m\u001b[90m<chr>\u001b[39m\u001b[23m \"EN\", \"VU\", \"CR\", \"CR\", \"VU...\n"
     ]
    }
   ],
   "source": [
    "new_animal %>%\n",
    "  glimpse()"
   ]
  },
  {
   "cell_type": "code",
   "execution_count": 6,
   "metadata": {},
   "outputs": [
    {
     "name": "stdout",
     "output_type": "stream",
     "text": [
      "Skim summary statistics  \n",
      " n obs: 1329    \n",
      " n variables: 10    \n",
      "\n",
      "Variable type: character\n",
      "\n",
      "|               variable                | missing | complete |  n   | min | max | empty | n_unique |\n",
      "|---------------------------------------|---------|----------|------|-----|-----|-------|----------|\n",
      "|                 Area                  |    0    |   1329   | 1329 |  4  | 29  |   0   |    11    |\n",
      "|  Area(s) Where Listed As Endangered:  |    0    |   1329   | 1329 |  4  | 338 |   0   |   459    |\n",
      "|              Common Name              |    0    |   1329   | 1329 |  4  | 35  |   0   |   1071   |\n",
      "|      Endangered Animals of Area       |    0    |   1329   | 1329 | 26  | 51  |   0   |    11    |\n",
      "|                Group:                 |    0    |   1329   | 1329 |  7  |  7  |   0   |    1     |\n",
      "| Other Names and/or Listed subspecies: |   578   |   751    | 1329 |  4  | 255 |   0   |   591    |\n",
      "|           Scientific Name:            |    1    |   1328   | 1329 |  9  | 37  |   0   |   1070   |\n",
      "|                Status                 |    1    |   1328   | 1329 |  2  |  2  |   0   |    6     |\n",
      "|   Status/Date Listed as Endangered:   |    1    |   1328   | 1329 |  9  | 160 |   0   |   132    |\n",
      "\n",
      "Variable type: numeric\n",
      "\n",
      "| variable | missing | complete |  n   |  mean  |  sd   | p0 | p25 | p50 | p75 | p100 |   hist   |\n",
      "|----------|---------|----------|------|--------|-------|----|-----|-----|-----|------|----------|\n",
      "|  index   |    0    |   1329   | 1329 | 103.14 | 81.53 | 1  | 37  | 82  | 154 | 333  | <U+2587><U+2586><U+2585><U+2583><U+2582><U+2582><U+2581><U+2581> |\n"
     ]
    }
   ],
   "source": [
    "new_animal %>%\n",
    "  skim() %>%\n",
    "  kable()"
   ]
  },
  {
   "cell_type": "code",
   "execution_count": 7,
   "metadata": {},
   "outputs": [],
   "source": [
    "#The variable named \"Other Names and/or Listed subspecies\" has lots of missing data."
   ]
  },
  {
   "cell_type": "code",
   "execution_count": 8,
   "metadata": {},
   "outputs": [
    {
     "name": "stderr",
     "output_type": "stream",
     "text": [
      "\n",
      "Attaching package: 'magrittr'\n",
      "\n",
      "The following object is masked from 'package:purrr':\n",
      "\n",
      "    set_names\n",
      "\n",
      "The following object is masked from 'package:tidyr':\n",
      "\n",
      "    extract\n",
      "\n"
     ]
    }
   ],
   "source": [
    "library(magrittr)"
   ]
  },
  {
   "cell_type": "code",
   "execution_count": 9,
   "metadata": {},
   "outputs": [],
   "source": [
    "# Classify Hawaii and Central America into North America, and Classify Australia into the Oceans and Island Nation."
   ]
  },
  {
   "cell_type": "code",
   "execution_count": 10,
   "metadata": {},
   "outputs": [],
   "source": [
    "new_animal[new_animal$Area == \"Hawaii\",]%<>% mutate(Area = \"North America\")\n",
    "new_animal[new_animal$Area == \"Central America\",]%<>% mutate(Area = \"North America\")\n",
    "new_animal[new_animal$Area == \"Australia\",]%<>% mutate(Area = \"the Oceans and Island Nations\")"
   ]
  },
  {
   "cell_type": "markdown",
   "metadata": {},
   "source": [
    " \"T = threatened. \": A species likely to become endangered within the foreseeable future throughout all or a significant portion of its range.(https://www.fws.gov/endangered/about/listing-status-codes.html)\n",
    " \n",
    " \"The IUCN Red List Categories define the extinction risk of species assessed. Nine categories extend from NE (Not Evaluated) to EX (Extinct). Critically Endangered (CR), Endangered (EN) and Vulnerable (VU) species are considered to be threatened with extinction. \"NT :Near Threatened \" \"DD : Data Deficient\"(https://www.iucn.org/resources/conservation-tools/iucn-red-list-threatened-species) \n",
    " \n",
    " so \"T-\" can classify into \"NT :Near Threatened\""
   ]
  },
  {
   "cell_type": "code",
   "execution_count": 13,
   "metadata": {},
   "outputs": [],
   "source": [
    "new_animal <- new_animal %>% filter(!is.na(Status))\n",
    "new_animal[new_animal$Status == \"T-\",] %<>% mutate(Status = \"NT\")"
   ]
  },
  {
   "cell_type": "code",
   "execution_count": 26,
   "metadata": {},
   "outputs": [],
   "source": [
    "Status_total <- new_animal %>%\n",
    "  group_by(Status, Area) %>%\n",
    "  tally() %>%\n",
    "  group_by(Area) %>%\n",
    "  summarise(total=sum(n))"
   ]
  },
  {
   "cell_type": "code",
   "execution_count": 69,
   "metadata": {},
   "outputs": [
    {
     "data": {
      "text/html": [
       "<table>\n",
       "<caption>A tibble: 8 × 2</caption>\n",
       "<thead>\n",
       "\t<tr><th scope=col>Area</th><th scope=col>total</th></tr>\n",
       "\t<tr><th scope=col>&lt;chr&gt;</th><th scope=col>&lt;int&gt;</th></tr>\n",
       "</thead>\n",
       "<tbody>\n",
       "\t<tr><td>Africa                       </td><td>253</td></tr>\n",
       "\t<tr><td>Antarctica                   </td><td>  9</td></tr>\n",
       "\t<tr><td>Asia                         </td><td>333</td></tr>\n",
       "\t<tr><td>Europe                       </td><td> 86</td></tr>\n",
       "\t<tr><td>North America                </td><td>222</td></tr>\n",
       "\t<tr><td>South America                </td><td>206</td></tr>\n",
       "\t<tr><td>the Middle East              </td><td> 67</td></tr>\n",
       "\t<tr><td>the Oceans and Island Nations</td><td>152</td></tr>\n",
       "</tbody>\n",
       "</table>\n"
      ],
      "text/latex": [
       "A tibble: 8 × 2\n",
       "\\begin{tabular}{r|ll}\n",
       " Area & total\\\\\n",
       " <chr> & <int>\\\\\n",
       "\\hline\n",
       "\t Africa                        & 253\\\\\n",
       "\t Antarctica                    &   9\\\\\n",
       "\t Asia                          & 333\\\\\n",
       "\t Europe                        &  86\\\\\n",
       "\t North America                 & 222\\\\\n",
       "\t South America                 & 206\\\\\n",
       "\t the Middle East               &  67\\\\\n",
       "\t the Oceans and Island Nations & 152\\\\\n",
       "\\end{tabular}\n"
      ],
      "text/markdown": [
       "\n",
       "A tibble: 8 × 2\n",
       "\n",
       "| Area &lt;chr&gt; | total &lt;int&gt; |\n",
       "|---|---|\n",
       "| Africa                        | 253 |\n",
       "| Antarctica                    |   9 |\n",
       "| Asia                          | 333 |\n",
       "| Europe                        |  86 |\n",
       "| North America                 | 222 |\n",
       "| South America                 | 206 |\n",
       "| the Middle East               |  67 |\n",
       "| the Oceans and Island Nations | 152 |\n",
       "\n"
      ],
      "text/plain": [
       "  Area                          total\n",
       "1 Africa                        253  \n",
       "2 Antarctica                      9  \n",
       "3 Asia                          333  \n",
       "4 Europe                         86  \n",
       "5 North America                 222  \n",
       "6 South America                 206  \n",
       "7 the Middle East                67  \n",
       "8 the Oceans and Island Nations 152  "
      ]
     },
     "metadata": {},
     "output_type": "display_data"
    }
   ],
   "source": [
    "Status_total"
   ]
  },
  {
   "cell_type": "code",
   "execution_count": 27,
   "metadata": {},
   "outputs": [],
   "source": [
    "Status_Area_count <- new_animal %>%\n",
    "  group_by(Status, Area) %>%\n",
    "  tally()"
   ]
  },
  {
   "cell_type": "code",
   "execution_count": 31,
   "metadata": {},
   "outputs": [],
   "source": [
    "Status_Area_combine <- Status_Area_count %>%\n",
    "  full_join(Status_total, by = \"Area\")"
   ]
  },
  {
   "cell_type": "code",
   "execution_count": 58,
   "metadata": {
    "scrolled": true
   },
   "outputs": [
    {
     "data": {
      "text/html": [
       "<table>\n",
       "<caption>A grouped_df: 32 × 4</caption>\n",
       "<thead>\n",
       "\t<tr><th scope=col>Status</th><th scope=col>Area</th><th scope=col>n</th><th scope=col>total</th></tr>\n",
       "\t<tr><th scope=col>&lt;fct&gt;</th><th scope=col>&lt;chr&gt;</th><th scope=col>&lt;int&gt;</th><th scope=col>&lt;int&gt;</th></tr>\n",
       "</thead>\n",
       "<tbody>\n",
       "\t<tr><td>CR</td><td>Africa                       </td><td> 15</td><td>253</td></tr>\n",
       "\t<tr><td>CR</td><td>Asia                         </td><td> 27</td><td>333</td></tr>\n",
       "\t<tr><td>CR</td><td>Europe                       </td><td>  2</td><td> 86</td></tr>\n",
       "\t<tr><td>CR</td><td>North America                </td><td> 26</td><td>222</td></tr>\n",
       "\t<tr><td>CR</td><td>South America                </td><td> 19</td><td>206</td></tr>\n",
       "\t<tr><td>CR</td><td>the Middle East              </td><td>  1</td><td> 67</td></tr>\n",
       "\t<tr><td>CR</td><td>the Oceans and Island Nations</td><td> 14</td><td>152</td></tr>\n",
       "\t<tr><td>DD</td><td>South America                </td><td>  1</td><td>206</td></tr>\n",
       "\t<tr><td>EN</td><td>Africa                       </td><td>131</td><td>253</td></tr>\n",
       "\t<tr><td>EN</td><td>Antarctica                   </td><td>  5</td><td>  9</td></tr>\n",
       "\t<tr><td>EN</td><td>Asia                         </td><td>133</td><td>333</td></tr>\n",
       "\t<tr><td>EN</td><td>Europe                       </td><td> 24</td><td> 86</td></tr>\n",
       "\t<tr><td>EN</td><td>North America                </td><td>102</td><td>222</td></tr>\n",
       "\t<tr><td>EN</td><td>South America                </td><td> 68</td><td>206</td></tr>\n",
       "\t<tr><td>EN</td><td>the Middle East              </td><td> 23</td><td> 67</td></tr>\n",
       "\t<tr><td>EN</td><td>the Oceans and Island Nations</td><td> 68</td><td>152</td></tr>\n",
       "\t<tr><td>NT</td><td>Africa                       </td><td> 50</td><td>253</td></tr>\n",
       "\t<tr><td>NT</td><td>Antarctica                   </td><td>  2</td><td>  9</td></tr>\n",
       "\t<tr><td>NT</td><td>Asia                         </td><td> 80</td><td>333</td></tr>\n",
       "\t<tr><td>NT</td><td>Europe                       </td><td> 33</td><td> 86</td></tr>\n",
       "\t<tr><td>NT</td><td>North America                </td><td> 50</td><td>222</td></tr>\n",
       "\t<tr><td>NT</td><td>South America                </td><td> 51</td><td>206</td></tr>\n",
       "\t<tr><td>NT</td><td>the Middle East              </td><td> 22</td><td> 67</td></tr>\n",
       "\t<tr><td>NT</td><td>the Oceans and Island Nations</td><td> 38</td><td>152</td></tr>\n",
       "\t<tr><td>VU</td><td>Africa                       </td><td> 57</td><td>253</td></tr>\n",
       "\t<tr><td>VU</td><td>Antarctica                   </td><td>  2</td><td>  9</td></tr>\n",
       "\t<tr><td>VU</td><td>Asia                         </td><td> 93</td><td>333</td></tr>\n",
       "\t<tr><td>VU</td><td>Europe                       </td><td> 27</td><td> 86</td></tr>\n",
       "\t<tr><td>VU</td><td>North America                </td><td> 44</td><td>222</td></tr>\n",
       "\t<tr><td>VU</td><td>South America                </td><td> 67</td><td>206</td></tr>\n",
       "\t<tr><td>VU</td><td>the Middle East              </td><td> 21</td><td> 67</td></tr>\n",
       "\t<tr><td>VU</td><td>the Oceans and Island Nations</td><td> 32</td><td>152</td></tr>\n",
       "</tbody>\n",
       "</table>\n"
      ],
      "text/latex": [
       "A grouped_df: 32 × 4\n",
       "\\begin{tabular}{r|llll}\n",
       " Status & Area & n & total\\\\\n",
       " <fct> & <chr> & <int> & <int>\\\\\n",
       "\\hline\n",
       "\t CR & Africa                        &  15 & 253\\\\\n",
       "\t CR & Asia                          &  27 & 333\\\\\n",
       "\t CR & Europe                        &   2 &  86\\\\\n",
       "\t CR & North America                 &  26 & 222\\\\\n",
       "\t CR & South America                 &  19 & 206\\\\\n",
       "\t CR & the Middle East               &   1 &  67\\\\\n",
       "\t CR & the Oceans and Island Nations &  14 & 152\\\\\n",
       "\t DD & South America                 &   1 & 206\\\\\n",
       "\t EN & Africa                        & 131 & 253\\\\\n",
       "\t EN & Antarctica                    &   5 &   9\\\\\n",
       "\t EN & Asia                          & 133 & 333\\\\\n",
       "\t EN & Europe                        &  24 &  86\\\\\n",
       "\t EN & North America                 & 102 & 222\\\\\n",
       "\t EN & South America                 &  68 & 206\\\\\n",
       "\t EN & the Middle East               &  23 &  67\\\\\n",
       "\t EN & the Oceans and Island Nations &  68 & 152\\\\\n",
       "\t NT & Africa                        &  50 & 253\\\\\n",
       "\t NT & Antarctica                    &   2 &   9\\\\\n",
       "\t NT & Asia                          &  80 & 333\\\\\n",
       "\t NT & Europe                        &  33 &  86\\\\\n",
       "\t NT & North America                 &  50 & 222\\\\\n",
       "\t NT & South America                 &  51 & 206\\\\\n",
       "\t NT & the Middle East               &  22 &  67\\\\\n",
       "\t NT & the Oceans and Island Nations &  38 & 152\\\\\n",
       "\t VU & Africa                        &  57 & 253\\\\\n",
       "\t VU & Antarctica                    &   2 &   9\\\\\n",
       "\t VU & Asia                          &  93 & 333\\\\\n",
       "\t VU & Europe                        &  27 &  86\\\\\n",
       "\t VU & North America                 &  44 & 222\\\\\n",
       "\t VU & South America                 &  67 & 206\\\\\n",
       "\t VU & the Middle East               &  21 &  67\\\\\n",
       "\t VU & the Oceans and Island Nations &  32 & 152\\\\\n",
       "\\end{tabular}\n"
      ],
      "text/markdown": [
       "\n",
       "A grouped_df: 32 × 4\n",
       "\n",
       "| Status &lt;fct&gt; | Area &lt;chr&gt; | n &lt;int&gt; | total &lt;int&gt; |\n",
       "|---|---|---|---|\n",
       "| CR | Africa                        |  15 | 253 |\n",
       "| CR | Asia                          |  27 | 333 |\n",
       "| CR | Europe                        |   2 |  86 |\n",
       "| CR | North America                 |  26 | 222 |\n",
       "| CR | South America                 |  19 | 206 |\n",
       "| CR | the Middle East               |   1 |  67 |\n",
       "| CR | the Oceans and Island Nations |  14 | 152 |\n",
       "| DD | South America                 |   1 | 206 |\n",
       "| EN | Africa                        | 131 | 253 |\n",
       "| EN | Antarctica                    |   5 |   9 |\n",
       "| EN | Asia                          | 133 | 333 |\n",
       "| EN | Europe                        |  24 |  86 |\n",
       "| EN | North America                 | 102 | 222 |\n",
       "| EN | South America                 |  68 | 206 |\n",
       "| EN | the Middle East               |  23 |  67 |\n",
       "| EN | the Oceans and Island Nations |  68 | 152 |\n",
       "| NT | Africa                        |  50 | 253 |\n",
       "| NT | Antarctica                    |   2 |   9 |\n",
       "| NT | Asia                          |  80 | 333 |\n",
       "| NT | Europe                        |  33 |  86 |\n",
       "| NT | North America                 |  50 | 222 |\n",
       "| NT | South America                 |  51 | 206 |\n",
       "| NT | the Middle East               |  22 |  67 |\n",
       "| NT | the Oceans and Island Nations |  38 | 152 |\n",
       "| VU | Africa                        |  57 | 253 |\n",
       "| VU | Antarctica                    |   2 |   9 |\n",
       "| VU | Asia                          |  93 | 333 |\n",
       "| VU | Europe                        |  27 |  86 |\n",
       "| VU | North America                 |  44 | 222 |\n",
       "| VU | South America                 |  67 | 206 |\n",
       "| VU | the Middle East               |  21 |  67 |\n",
       "| VU | the Oceans and Island Nations |  32 | 152 |\n",
       "\n"
      ],
      "text/plain": [
       "   Status Area                          n   total\n",
       "1  CR     Africa                         15 253  \n",
       "2  CR     Asia                           27 333  \n",
       "3  CR     Europe                          2  86  \n",
       "4  CR     North America                  26 222  \n",
       "5  CR     South America                  19 206  \n",
       "6  CR     the Middle East                 1  67  \n",
       "7  CR     the Oceans and Island Nations  14 152  \n",
       "8  DD     South America                   1 206  \n",
       "9  EN     Africa                        131 253  \n",
       "10 EN     Antarctica                      5   9  \n",
       "11 EN     Asia                          133 333  \n",
       "12 EN     Europe                         24  86  \n",
       "13 EN     North America                 102 222  \n",
       "14 EN     South America                  68 206  \n",
       "15 EN     the Middle East                23  67  \n",
       "16 EN     the Oceans and Island Nations  68 152  \n",
       "17 NT     Africa                         50 253  \n",
       "18 NT     Antarctica                      2   9  \n",
       "19 NT     Asia                           80 333  \n",
       "20 NT     Europe                         33  86  \n",
       "21 NT     North America                  50 222  \n",
       "22 NT     South America                  51 206  \n",
       "23 NT     the Middle East                22  67  \n",
       "24 NT     the Oceans and Island Nations  38 152  \n",
       "25 VU     Africa                         57 253  \n",
       "26 VU     Antarctica                      2   9  \n",
       "27 VU     Asia                           93 333  \n",
       "28 VU     Europe                         27  86  \n",
       "29 VU     North America                  44 222  \n",
       "30 VU     South America                  67 206  \n",
       "31 VU     the Middle East                21  67  \n",
       "32 VU     the Oceans and Island Nations  32 152  "
      ]
     },
     "metadata": {},
     "output_type": "display_data"
    }
   ],
   "source": [
    "Status_Area_combine"
   ]
  },
  {
   "cell_type": "code",
   "execution_count": 55,
   "metadata": {},
   "outputs": [
    {
     "data": {
      "text/html": [
       "'factor'"
      ],
      "text/latex": [
       "'factor'"
      ],
      "text/markdown": [
       "'factor'"
      ],
      "text/plain": [
       "[1] \"factor\""
      ]
     },
     "metadata": {},
     "output_type": "display_data"
    }
   ],
   "source": [
    "Status_Area_combine$Status <- as_factor(Status_Area_combine$Status)\n",
    "Status_Area_combine$Status %>% class"
   ]
  },
  {
   "cell_type": "code",
   "execution_count": 57,
   "metadata": {},
   "outputs": [],
   "source": [
    "Status_Area_combine$Status <- factor(Status_Area_combine$Status, levels = c(\"NT\", \"DD\", \"VU\", \"EN\", \"CR\"))"
   ]
  },
  {
   "cell_type": "code",
   "execution_count": 92,
   "metadata": {},
   "outputs": [
    {
     "name": "stderr",
     "output_type": "stream",
     "text": [
      "Saving 6.67 x 6.67 in image\n"
     ]
    },
    {
     "data": {
      "image/png": "[encoded data removed]",
      "text/plain": [
       "plot without title"
      ]
     },
     "metadata": {},
     "output_type": "display_data"
    }
   ],
   "source": [
    "Status_Area_combine %>%\n",
    "  ggplot() +\n",
    "  geom_bar(aes(x=Area, y=n/total, fill=Status),stat=\"identity\")+\n",
    "  scale_fill_brewer(palette=\"OrRd\") +\n",
    "  ggtitle(\"Proportion of Endangered Animal Count in each Region Status\") +\n",
    "  labs(y=\"proportion\", x = \"continent\") +\n",
    "  coord_flip()\n",
    "ggsave(\"Animal plot.jpg\")"
   ]
  },
  {
   "cell_type": "code",
   "execution_count": 82,
   "metadata": {},
   "outputs": [],
   "source": [
    "Status_total$Area <-as.factor(Status_total$Area)\n",
    "Status_total <- Status_total %>%\n",
    "  mutate(proportion = total/sum(total)) %>%\n",
    "  arrange(desc(proportion))"
   ]
  },
  {
   "cell_type": "code",
   "execution_count": 89,
   "metadata": {},
   "outputs": [],
   "source": [
    "#reorder Area by ascending proportion\n",
    "Status_total$Area <- reorder(Status_total$Area, Status_total$proportion)"
   ]
  },
  {
   "cell_type": "code",
   "execution_count": 93,
   "metadata": {
    "scrolled": false
   },
   "outputs": [
    {
     "name": "stderr",
     "output_type": "stream",
     "text": [
      "Saving 6.67 x 6.67 in image\n"
     ]
    },
    {
     "data": {
      "image/png": "[encoded data removed]",
      "text/plain": [
       "plot without title"
      ]
     },
     "metadata": {},
     "output_type": "display_data"
    }
   ],
   "source": [
    "Status_total %>%\n",
    "  ggplot(aes(x=\"\", y=proportion, fill=Area))+\n",
    "  geom_bar(width = 1, stat = \"identity\", color = \"white\") +\n",
    "  coord_polar(\"y\", start=0) +\n",
    "  scale_fill_brewer(palette=\"OrRd\") +\n",
    "  ggtitle(\"Proportion of Endangered Animal Count in each Region\") +\n",
    "  theme(plot.title = element_text(hjust = 0.5), axis.title.x =element_blank())\n",
    "ggsave(\"Animal pie chart.jpg\")"
   ]
  },
  {
   "cell_type": "code",
   "execution_count": null,
   "metadata": {},
   "outputs": [],
   "source": []
  }
 ],
 "metadata": {
  "kernelspec": {
   "display_name": "R",
   "language": "R",
   "name": "ir"
  },
  "language_info": {
   "codemirror_mode": "r",
   "file_extension": ".r",
   "mimetype": "text/x-r-source",
   "name": "R",
   "pygments_lexer": "r",
   "version": "3.6.1"
  }
 },
 "nbformat": 4,
 "nbformat_minor": 4
}
