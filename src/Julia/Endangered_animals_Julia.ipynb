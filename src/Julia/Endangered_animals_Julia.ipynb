{
 "cells": [
  {
   "cell_type": "code",
   "execution_count": 12,
   "metadata": {},
   "outputs": [],
   "source": [
    "using Pkg"
   ]
  },
  {
   "cell_type": "code",
   "execution_count": 13,
   "metadata": {},
   "outputs": [
    {
     "name": "stderr",
     "output_type": "stream",
     "text": [
      "WARNING: using DataFrames.groupby in module Main conflicts with an existing identifier.\n"
     ]
    }
   ],
   "source": [
    "using CSV, DataFrames\n"
   ]
  },
  {
   "cell_type": "code",
   "execution_count": 14,
   "metadata": {},
   "outputs": [
    {
     "name": "stderr",
     "output_type": "stream",
     "text": [
      "┌ Warning: `getindex(df::DataFrame, col_ind::ColumnIndex)` is deprecated, use `df[!, col_ind]` instead.\n",
      "│   caller = top-level scope at In[14]:15\n",
      "└ @ Core ./In[14]:15\n",
      "┌ Warning: `insert!(df::DataFrame, col_ind::Int, item, name::Symbol; makeunique::Bool=false)` is deprecated, use `insertcols!(df, col_ind, name => item; makeunique=makeunique)` instead.\n",
      "│   caller = top-level scope at In[14]:15\n",
      "└ @ Core ./In[14]:15\n",
      "┌ Warning: `getindex(df::DataFrame, col_ind::ColumnIndex)` is deprecated, use `df[!, col_ind]` instead.\n",
      "│   caller = top-level scope at In[14]:17\n",
      "└ @ Core ./In[14]:17\n",
      "┌ Warning: `setindex!(df::DataFrame, v::AbstractVector, col_ind::ColumnIndex)` is deprecated, use `begin\n",
      "│     df[!, col_ind] = v\n",
      "│     df\n",
      "│ end` instead.\n",
      "│   caller = top-level scope at In[14]:17\n",
      "└ @ Core ./In[14]:17\n"
     ]
    }
   ],
   "source": [
    "#create a new column Area\n",
    "function create_Area(x)\n",
    "    #use regular expression to match the behind part of \"Endangered Mammals of \"\n",
    "    my_matches_step1 = match(r\"(?<=Endangered Mammals of )(.*)\", x)\n",
    "    #use regular expression to match numeric and alphabet characters\n",
    "    my_matches_step2 = match(r\"[a-zA-Z0-9 -]*\", my_matches_step1.match)\n",
    "    return my_matches_step2.match\n",
    "end\n",
    "animals_final_df = DataFrame()\n",
    "for num = 1:11\n",
    "    #read 11 mammal animal files\n",
    "    animals_df = CSV.read(\"Endangered mammal animals_$num.csv\")\n",
    "    animals_df = animals_df |> DataFrame\n",
    "    #add a new column \"Area\"\n",
    "    insert!(animals_df, 9, create_Area.(animals_df[Symbol(\"Endangered Animals of Area\")]), :Area)\n",
    "    #add a new column \"Status\"\n",
    "    animals_df[:Status] = SubString.(animals_df[Symbol(\"Status/Date Listed as Endangered:\")], 1, 2)\n",
    "    if num == 1\n",
    "        animals_final_df = animals_df\n",
    "    else\n",
    "        animals_final_df = [animals_final_df;animals_df]\n",
    "    end\n",
    "end"
   ]
  },
  {
   "cell_type": "code",
   "execution_count": 15,
   "metadata": {},
   "outputs": [
    {
     "data": {
      "text/html": [
       "<table class=\"data-frame\"><thead><tr><th></th><th>index</th><th>Common Name</th><th>Endangered Animals of Area</th><th>Scientific Name:</th></tr><tr><th></th><th>Int64</th><th>String</th><th>String</th><th>String</th></tr></thead><tbody><p>1,329 rows × 10 columns (omitted printing of 6 columns)</p><tr><th>1</th><td>1</td><td>Abbott's Duiker</td><td>Endangered Mammals of Africa</td><td>Cephalophus spadix</td></tr><tr><th>2</th><td>2</td><td>Aberdare Mole Shrew</td><td>Endangered Mammals of Africa</td><td>Surdisorex norae</td></tr><tr><th>3</th><td>3</td><td>Addax</td><td>Endangered Mammals of Africa</td><td>Addax nasomaculatus</td></tr><tr><th>4</th><td>4</td><td>Aders' Duiker</td><td>Endangered Mammals of Africa</td><td>Cephalophus adersi</td></tr><tr><th>5</th><td>5</td><td>Aellen's Roundleaf Bat</td><td>Endangered Mammals of Africa</td><td>Hipposideros marisae</td></tr><tr><th>6</th><td>6</td><td>African Elephant</td><td>Endangered Mammals of Africa</td><td>Loxodonta africana</td></tr><tr><th>7</th><td>7</td><td>African Golden Cat</td><td>Endangered Mammals of Africa</td><td>Caracal aurata</td></tr><tr><th>8</th><td>8</td><td>African Lion</td><td>Endangered Mammals of Africa</td><td>Panthera leo</td></tr><tr><th>9</th><td>9</td><td>African White-bellied Pangolin</td><td>Endangered Mammals of Africa</td><td>Phataginus tricuspis</td></tr><tr><th>10</th><td>10</td><td>African Wild Ass</td><td>Endangered Mammals of Africa</td><td>Equus africanus</td></tr><tr><th>11</th><td>11</td><td>African Wild Dog</td><td>Endangered Mammals of Africa</td><td>Lycaon pictus</td></tr><tr><th>12</th><td>12</td><td>Alaotran Gentle Lemur</td><td>Endangered Mammals of Africa</td><td>Hapalemur alaotrensis</td></tr><tr><th>13</th><td>13</td><td>Aldabra Flying-fox</td><td>Endangered Mammals of Africa</td><td>Pteropus aldabrensis</td></tr><tr><th>14</th><td>14</td><td>Andaman Spiny Shrew</td><td>Endangered Mammals of Africa</td><td>Crocidura hispida</td></tr><tr><th>15</th><td>15</td><td>Angolan Epauletted Fruit Bat</td><td>Endangered Mammals of Africa</td><td>Epomophorus angolensis</td></tr><tr><th>16</th><td>16</td><td>Ankarana Sportive Lemur</td><td>Endangered Mammals of Africa</td><td>Lepilemur ankaranensis</td></tr><tr><th>17</th><td>17</td><td>Ansell's Shrew</td><td>Endangered Mammals of Africa</td><td>Crocidura ansellorum</td></tr><tr><th>18</th><td>18</td><td>Antafia Sportive Lemur</td><td>Endangered Mammals of Africa</td><td>Lepilemur aeeclis</td></tr><tr><th>19</th><td>19</td><td>Aquatic Tenrec</td><td>Endangered Mammals of Africa</td><td>Limnogale mergulus</td></tr><tr><th>20</th><td>20</td><td>Arend's Golden Mole</td><td>Endangered Mammals of Africa</td><td>Carpitalpa arendsi</td></tr><tr><th>21</th><td>21</td><td>Arrogant Shrew</td><td>Endangered Mammals of Africa</td><td>Sylvisorex morio</td></tr><tr><th>22</th><td>22</td><td>Avahi</td><td>Endangered Mammals of Africa</td><td>Avahi laniger</td></tr><tr><th>23</th><td>23</td><td>Awash Multimammate Mouse</td><td>Endangered Mammals of Africa</td><td>Mastomys awashensis</td></tr><tr><th>24</th><td>24</td><td>Aye-aye</td><td>Endangered Mammals of Africa</td><td>Daubentonia madagascariensis</td></tr><tr><th>25</th><td>25</td><td>Babault's Mouse Shrew</td><td>Endangered Mammals of Africa</td><td>Myosorex babaulti</td></tr><tr><th>26</th><td>26</td><td>Back-striped Sportive Lemur</td><td>Endangered Mammals of Africa</td><td>Lepilemur dorsalis</td></tr><tr><th>27</th><td>27</td><td>Baer's Wood Mouse</td><td>Endangered Mammals of Africa</td><td>Hylomyscus baeri</td></tr><tr><th>28</th><td>28</td><td>Bailey's Shrew</td><td>Endangered Mammals of Africa</td><td>Crocidura baileyi</td></tr><tr><th>29</th><td>29</td><td>Bale Monkey</td><td>Endangered Mammals of Africa</td><td>Chlorocebus djamdjamensis</td></tr><tr><th>30</th><td>30</td><td>Bale Shrew</td><td>Endangered Mammals of Africa</td><td>Crocidura bottegoides</td></tr><tr><th>&vellip;</th><td>&vellip;</td><td>&vellip;</td><td>&vellip;</td><td>&vellip;</td></tr></tbody></table>"
      ],
      "text/latex": [
       "\\begin{tabular}{r|ccccc}\n",
       "\t& index & Common Name & Endangered Animals of Area & Scientific Name: & \\\\\n",
       "\t\\hline\n",
       "\t& Int64 & String & String & String & \\\\\n",
       "\t\\hline\n",
       "\t1 & 1 & Abbott's Duiker & Endangered Mammals of Africa & Cephalophus spadix & $\\dots$ \\\\\n",
       "\t2 & 2 & Aberdare Mole Shrew & Endangered Mammals of Africa & Surdisorex norae & $\\dots$ \\\\\n",
       "\t3 & 3 & Addax & Endangered Mammals of Africa & Addax nasomaculatus & $\\dots$ \\\\\n",
       "\t4 & 4 & Aders' Duiker & Endangered Mammals of Africa & Cephalophus adersi & $\\dots$ \\\\\n",
       "\t5 & 5 & Aellen's Roundleaf Bat & Endangered Mammals of Africa & Hipposideros marisae & $\\dots$ \\\\\n",
       "\t6 & 6 & African Elephant & Endangered Mammals of Africa & Loxodonta africana & $\\dots$ \\\\\n",
       "\t7 & 7 & African Golden Cat & Endangered Mammals of Africa & Caracal aurata & $\\dots$ \\\\\n",
       "\t8 & 8 & African Lion & Endangered Mammals of Africa & Panthera leo & $\\dots$ \\\\\n",
       "\t9 & 9 & African White-bellied Pangolin & Endangered Mammals of Africa & Phataginus tricuspis & $\\dots$ \\\\\n",
       "\t10 & 10 & African Wild Ass & Endangered Mammals of Africa & Equus africanus & $\\dots$ \\\\\n",
       "\t11 & 11 & African Wild Dog & Endangered Mammals of Africa & Lycaon pictus & $\\dots$ \\\\\n",
       "\t12 & 12 & Alaotran Gentle Lemur & Endangered Mammals of Africa & Hapalemur alaotrensis & $\\dots$ \\\\\n",
       "\t13 & 13 & Aldabra Flying-fox & Endangered Mammals of Africa & Pteropus aldabrensis & $\\dots$ \\\\\n",
       "\t14 & 14 & Andaman Spiny Shrew & Endangered Mammals of Africa & Crocidura hispida & $\\dots$ \\\\\n",
       "\t15 & 15 & Angolan Epauletted Fruit Bat & Endangered Mammals of Africa & Epomophorus angolensis & $\\dots$ \\\\\n",
       "\t16 & 16 & Ankarana Sportive Lemur & Endangered Mammals of Africa & Lepilemur ankaranensis & $\\dots$ \\\\\n",
       "\t17 & 17 & Ansell's Shrew & Endangered Mammals of Africa & Crocidura ansellorum & $\\dots$ \\\\\n",
       "\t18 & 18 & Antafia Sportive Lemur & Endangered Mammals of Africa & Lepilemur aeeclis & $\\dots$ \\\\\n",
       "\t19 & 19 & Aquatic Tenrec & Endangered Mammals of Africa & Limnogale mergulus & $\\dots$ \\\\\n",
       "\t20 & 20 & Arend's Golden Mole & Endangered Mammals of Africa & Carpitalpa arendsi & $\\dots$ \\\\\n",
       "\t21 & 21 & Arrogant Shrew & Endangered Mammals of Africa & Sylvisorex morio & $\\dots$ \\\\\n",
       "\t22 & 22 & Avahi & Endangered Mammals of Africa & Avahi laniger & $\\dots$ \\\\\n",
       "\t23 & 23 & Awash Multimammate Mouse & Endangered Mammals of Africa & Mastomys awashensis & $\\dots$ \\\\\n",
       "\t24 & 24 & Aye-aye & Endangered Mammals of Africa & Daubentonia madagascariensis & $\\dots$ \\\\\n",
       "\t25 & 25 & Babault's Mouse Shrew & Endangered Mammals of Africa & Myosorex babaulti & $\\dots$ \\\\\n",
       "\t26 & 26 & Back-striped Sportive Lemur & Endangered Mammals of Africa & Lepilemur dorsalis & $\\dots$ \\\\\n",
       "\t27 & 27 & Baer's Wood Mouse & Endangered Mammals of Africa & Hylomyscus baeri & $\\dots$ \\\\\n",
       "\t28 & 28 & Bailey's Shrew & Endangered Mammals of Africa & Crocidura baileyi & $\\dots$ \\\\\n",
       "\t29 & 29 & Bale Monkey & Endangered Mammals of Africa & Chlorocebus djamdjamensis & $\\dots$ \\\\\n",
       "\t30 & 30 & Bale Shrew & Endangered Mammals of Africa & Crocidura bottegoides & $\\dots$ \\\\\n",
       "\t$\\dots$ & $\\dots$ & $\\dots$ & $\\dots$ & $\\dots$ &  \\\\\n",
       "\\end{tabular}\n"
      ],
      "text/plain": [
       "1329×10 DataFrame. Omitted printing of 8 columns\n",
       "│ Row  │ index │ Common Name                    │\n",
       "│      │ \u001b[90mInt64\u001b[39m │ \u001b[90mString\u001b[39m                         │\n",
       "├──────┼───────┼────────────────────────────────┤\n",
       "│ 1    │ 1     │ Abbott's Duiker                │\n",
       "│ 2    │ 2     │ Aberdare Mole Shrew            │\n",
       "│ 3    │ 3     │ Addax                          │\n",
       "│ 4    │ 4     │ Aders' Duiker                  │\n",
       "│ 5    │ 5     │ Aellen's Roundleaf Bat         │\n",
       "│ 6    │ 6     │ African Elephant               │\n",
       "│ 7    │ 7     │ African Golden Cat             │\n",
       "│ 8    │ 8     │ African Lion                   │\n",
       "│ 9    │ 9     │ African White-bellied Pangolin │\n",
       "│ 10   │ 10    │ African Wild Ass               │\n",
       "⋮\n",
       "│ 1319 │ 196   │ Vicuna                         │\n",
       "│ 1320 │ 197   │ West Indian Manatee            │\n",
       "│ 1321 │ 198   │ Western Nectar Bat             │\n",
       "│ 1322 │ 199   │ White-cheeked Spider Monkey    │\n",
       "│ 1323 │ 200   │ White-eared Marmoset           │\n",
       "│ 1324 │ 201   │ White-footed Saki              │\n",
       "│ 1325 │ 202   │ White-lipped Peccary           │\n",
       "│ 1326 │ 203   │ White-nosed Saki               │\n",
       "│ 1327 │ 204   │ Woolly Spider Monkey           │\n",
       "│ 1328 │ 205   │ Yellow-tailed Woolly Monkey    │\n",
       "│ 1329 │ 206   │ Zuniga's Dark Rice Rat         │"
      ]
     },
     "execution_count": 15,
     "metadata": {},
     "output_type": "execute_result"
    }
   ],
   "source": [
    "animals_final_df |>\n",
    "  DataFrame "
   ]
  },
  {
   "cell_type": "code",
   "execution_count": 16,
   "metadata": {},
   "outputs": [
    {
     "data": {
      "text/html": [
       "<table class=\"data-frame\"><thead><tr><th></th><th>variable</th><th>mean</th><th>min</th></tr><tr><th></th><th>Symbol</th><th>Union…</th><th>Any</th></tr></thead><tbody><p>10 rows × 8 columns (omitted printing of 5 columns)</p><tr><th>1</th><td>index</td><td>103.137</td><td>1</td></tr><tr><th>2</th><td>Common Name</td><td></td><td>Abbott's Duiker</td></tr><tr><th>3</th><td>Endangered Animals of Area</td><td></td><td>Endangered Mammals of Africa</td></tr><tr><th>4</th><td>Scientific Name:</td><td></td><td>Abrocoma boliviensis</td></tr><tr><th>5</th><td>Other Names and/or Listed subspecies:</td><td></td><td>'Ope'ape'a</td></tr><tr><th>6</th><td>Group:</td><td></td><td>Mammals</td></tr><tr><th>7</th><td>Status/Date Listed as Endangered:</td><td></td><td>CR-IUCN: 2008</td></tr><tr><th>8</th><td>Area(s) Where Listed As Endangered:</td><td></td><td>Afghanistan, Algeria, Bhutan, China, France, India, Morocco, Pakistan, Tunisia</td></tr><tr><th>9</th><td>Area</td><td></td><td>Africa</td></tr><tr><th>10</th><td>Status</td><td></td><td>CR</td></tr></tbody></table>"
      ],
      "text/latex": [
       "\\begin{tabular}{r|cccc}\n",
       "\t& variable & mean & min & \\\\\n",
       "\t\\hline\n",
       "\t& Symbol & Union… & Any & \\\\\n",
       "\t\\hline\n",
       "\t1 & index & 103.137 & 1 & $\\dots$ \\\\\n",
       "\t2 & Common Name &  & Abbott's Duiker & $\\dots$ \\\\\n",
       "\t3 & Endangered Animals of Area &  & Endangered Mammals of Africa & $\\dots$ \\\\\n",
       "\t4 & Scientific Name: &  & Abrocoma boliviensis & $\\dots$ \\\\\n",
       "\t5 & Other Names and/or Listed subspecies: &  & 'Ope'ape'a & $\\dots$ \\\\\n",
       "\t6 & Group: &  & Mammals & $\\dots$ \\\\\n",
       "\t7 & Status/Date Listed as Endangered: &  & CR-IUCN: 2008 & $\\dots$ \\\\\n",
       "\t8 & Area(s) Where Listed As Endangered: &  & Afghanistan, Algeria, Bhutan, China, France, India, Morocco, Pakistan, Tunisia & $\\dots$ \\\\\n",
       "\t9 & Area &  & Africa & $\\dots$ \\\\\n",
       "\t10 & Status &  & CR & $\\dots$ \\\\\n",
       "\\end{tabular}\n"
      ],
      "text/plain": [
       "10×8 DataFrame. Omitted printing of 6 columns\n",
       "│ Row │ variable                              │ mean    │\n",
       "│     │ \u001b[90mSymbol\u001b[39m                                │ \u001b[90mUnion…\u001b[39m  │\n",
       "├─────┼───────────────────────────────────────┼─────────┤\n",
       "│ 1   │ index                                 │ 103.137 │\n",
       "│ 2   │ Common Name                           │         │\n",
       "│ 3   │ Endangered Animals of Area            │         │\n",
       "│ 4   │ Scientific Name:                      │         │\n",
       "│ 5   │ Other Names and/or Listed subspecies: │         │\n",
       "│ 6   │ Group:                                │         │\n",
       "│ 7   │ Status/Date Listed as Endangered:     │         │\n",
       "│ 8   │ Area(s) Where Listed As Endangered:   │         │\n",
       "│ 9   │ Area                                  │         │\n",
       "│ 10  │ Status                                │         │"
      ]
     },
     "execution_count": 16,
     "metadata": {},
     "output_type": "execute_result"
    }
   ],
   "source": [
    "animals_final_df |> describe \n",
    "# An overall quick look at the dataframe"
   ]
  },
  {
   "cell_type": "code",
   "execution_count": 17,
   "metadata": {},
   "outputs": [
    {
     "name": "stderr",
     "output_type": "stream",
     "text": [
      "┌ Warning: `deletecols!(df::DataFrame, inds)` is deprecated, use `select!(df, Not(inds))` instead.\n",
      "│   caller = top-level scope at In[17]:1\n",
      "└ @ Core In[17]:1\n"
     ]
    },
    {
     "data": {
      "text/html": [
       "<table class=\"data-frame\"><thead><tr><th></th><th>variable</th><th>mean</th><th>min</th></tr><tr><th></th><th>Symbol</th><th>Union…</th><th>Any</th></tr></thead><tbody><p>9 rows × 8 columns (omitted printing of 5 columns)</p><tr><th>1</th><td>index</td><td>103.137</td><td>1</td></tr><tr><th>2</th><td>Common Name</td><td></td><td>Abbott's Duiker</td></tr><tr><th>3</th><td>Endangered Animals of Area</td><td></td><td>Endangered Mammals of Africa</td></tr><tr><th>4</th><td>Scientific Name:</td><td></td><td>Abrocoma boliviensis</td></tr><tr><th>5</th><td>Group:</td><td></td><td>Mammals</td></tr><tr><th>6</th><td>Status/Date Listed as Endangered:</td><td></td><td>CR-IUCN: 2008</td></tr><tr><th>7</th><td>Area(s) Where Listed As Endangered:</td><td></td><td>Afghanistan, Algeria, Bhutan, China, France, India, Morocco, Pakistan, Tunisia</td></tr><tr><th>8</th><td>Area</td><td></td><td>Africa</td></tr><tr><th>9</th><td>Status</td><td></td><td>CR</td></tr></tbody></table>"
      ],
      "text/latex": [
       "\\begin{tabular}{r|cccc}\n",
       "\t& variable & mean & min & \\\\\n",
       "\t\\hline\n",
       "\t& Symbol & Union… & Any & \\\\\n",
       "\t\\hline\n",
       "\t1 & index & 103.137 & 1 & $\\dots$ \\\\\n",
       "\t2 & Common Name &  & Abbott's Duiker & $\\dots$ \\\\\n",
       "\t3 & Endangered Animals of Area &  & Endangered Mammals of Africa & $\\dots$ \\\\\n",
       "\t4 & Scientific Name: &  & Abrocoma boliviensis & $\\dots$ \\\\\n",
       "\t5 & Group: &  & Mammals & $\\dots$ \\\\\n",
       "\t6 & Status/Date Listed as Endangered: &  & CR-IUCN: 2008 & $\\dots$ \\\\\n",
       "\t7 & Area(s) Where Listed As Endangered: &  & Afghanistan, Algeria, Bhutan, China, France, India, Morocco, Pakistan, Tunisia & $\\dots$ \\\\\n",
       "\t8 & Area &  & Africa & $\\dots$ \\\\\n",
       "\t9 & Status &  & CR & $\\dots$ \\\\\n",
       "\\end{tabular}\n"
      ],
      "text/plain": [
       "9×8 DataFrame. Omitted printing of 6 columns\n",
       "│ Row │ variable                            │ mean    │\n",
       "│     │ \u001b[90mSymbol\u001b[39m                              │ \u001b[90mUnion…\u001b[39m  │\n",
       "├─────┼─────────────────────────────────────┼─────────┤\n",
       "│ 1   │ index                               │ 103.137 │\n",
       "│ 2   │ Common Name                         │         │\n",
       "│ 3   │ Endangered Animals of Area          │         │\n",
       "│ 4   │ Scientific Name:                    │         │\n",
       "│ 5   │ Group:                              │         │\n",
       "│ 6   │ Status/Date Listed as Endangered:   │         │\n",
       "│ 7   │ Area(s) Where Listed As Endangered: │         │\n",
       "│ 8   │ Area                                │         │\n",
       "│ 9   │ Status                              │         │"
      ]
     },
     "execution_count": 17,
     "metadata": {},
     "output_type": "execute_result"
    }
   ],
   "source": [
    "deletecols!(animals_final_df, 5) |>\n",
    "  DataFrame |> describe \n",
    "# delelte the culumn named \"Other Names and/or Listed subspecies:\" because it is irrelevant and has too many NAs"
   ]
  },
  {
   "cell_type": "code",
   "execution_count": 18,
   "metadata": {},
   "outputs": [
    {
     "data": {
      "text/plain": [
       "9-element Array{Symbol,1}:\n",
       " :index                                       \n",
       " Symbol(\"Common Name\")                        \n",
       " Symbol(\"Endangered Animals of Area\")         \n",
       " Symbol(\"Scientific Name:\")                   \n",
       " Symbol(\"Group:\")                             \n",
       " Symbol(\"Status/Date Listed as Endangered:\")  \n",
       " Symbol(\"Area(s) Where Listed As Endangered:\")\n",
       " :Area                                        \n",
       " :Status                                      "
      ]
     },
     "execution_count": 18,
     "metadata": {},
     "output_type": "execute_result"
    }
   ],
   "source": [
    "names(animals_final_df)"
   ]
  },
  {
   "cell_type": "code",
   "execution_count": 19,
   "metadata": {},
   "outputs": [
    {
     "data": {
      "text/html": [
       "<table class=\"data-frame\"><thead><tr><th></th><th>Index</th><th>Common Name</th><th>Endangered Animals of Area</th><th>Scientific Name</th></tr><tr><th></th><th>Int64</th><th>String</th><th>String</th><th>String</th></tr></thead><tbody><p>1,329 rows × 9 columns (omitted printing of 5 columns)</p><tr><th>1</th><td>1</td><td>Abbott's Duiker</td><td>Endangered Mammals of Africa</td><td>Cephalophus spadix</td></tr><tr><th>2</th><td>2</td><td>Aberdare Mole Shrew</td><td>Endangered Mammals of Africa</td><td>Surdisorex norae</td></tr><tr><th>3</th><td>3</td><td>Addax</td><td>Endangered Mammals of Africa</td><td>Addax nasomaculatus</td></tr><tr><th>4</th><td>4</td><td>Aders' Duiker</td><td>Endangered Mammals of Africa</td><td>Cephalophus adersi</td></tr><tr><th>5</th><td>5</td><td>Aellen's Roundleaf Bat</td><td>Endangered Mammals of Africa</td><td>Hipposideros marisae</td></tr><tr><th>6</th><td>6</td><td>African Elephant</td><td>Endangered Mammals of Africa</td><td>Loxodonta africana</td></tr><tr><th>7</th><td>7</td><td>African Golden Cat</td><td>Endangered Mammals of Africa</td><td>Caracal aurata</td></tr><tr><th>8</th><td>8</td><td>African Lion</td><td>Endangered Mammals of Africa</td><td>Panthera leo</td></tr><tr><th>9</th><td>9</td><td>African White-bellied Pangolin</td><td>Endangered Mammals of Africa</td><td>Phataginus tricuspis</td></tr><tr><th>10</th><td>10</td><td>African Wild Ass</td><td>Endangered Mammals of Africa</td><td>Equus africanus</td></tr><tr><th>11</th><td>11</td><td>African Wild Dog</td><td>Endangered Mammals of Africa</td><td>Lycaon pictus</td></tr><tr><th>12</th><td>12</td><td>Alaotran Gentle Lemur</td><td>Endangered Mammals of Africa</td><td>Hapalemur alaotrensis</td></tr><tr><th>13</th><td>13</td><td>Aldabra Flying-fox</td><td>Endangered Mammals of Africa</td><td>Pteropus aldabrensis</td></tr><tr><th>14</th><td>14</td><td>Andaman Spiny Shrew</td><td>Endangered Mammals of Africa</td><td>Crocidura hispida</td></tr><tr><th>15</th><td>15</td><td>Angolan Epauletted Fruit Bat</td><td>Endangered Mammals of Africa</td><td>Epomophorus angolensis</td></tr><tr><th>16</th><td>16</td><td>Ankarana Sportive Lemur</td><td>Endangered Mammals of Africa</td><td>Lepilemur ankaranensis</td></tr><tr><th>17</th><td>17</td><td>Ansell's Shrew</td><td>Endangered Mammals of Africa</td><td>Crocidura ansellorum</td></tr><tr><th>18</th><td>18</td><td>Antafia Sportive Lemur</td><td>Endangered Mammals of Africa</td><td>Lepilemur aeeclis</td></tr><tr><th>19</th><td>19</td><td>Aquatic Tenrec</td><td>Endangered Mammals of Africa</td><td>Limnogale mergulus</td></tr><tr><th>20</th><td>20</td><td>Arend's Golden Mole</td><td>Endangered Mammals of Africa</td><td>Carpitalpa arendsi</td></tr><tr><th>21</th><td>21</td><td>Arrogant Shrew</td><td>Endangered Mammals of Africa</td><td>Sylvisorex morio</td></tr><tr><th>22</th><td>22</td><td>Avahi</td><td>Endangered Mammals of Africa</td><td>Avahi laniger</td></tr><tr><th>23</th><td>23</td><td>Awash Multimammate Mouse</td><td>Endangered Mammals of Africa</td><td>Mastomys awashensis</td></tr><tr><th>24</th><td>24</td><td>Aye-aye</td><td>Endangered Mammals of Africa</td><td>Daubentonia madagascariensis</td></tr><tr><th>25</th><td>25</td><td>Babault's Mouse Shrew</td><td>Endangered Mammals of Africa</td><td>Myosorex babaulti</td></tr><tr><th>26</th><td>26</td><td>Back-striped Sportive Lemur</td><td>Endangered Mammals of Africa</td><td>Lepilemur dorsalis</td></tr><tr><th>27</th><td>27</td><td>Baer's Wood Mouse</td><td>Endangered Mammals of Africa</td><td>Hylomyscus baeri</td></tr><tr><th>28</th><td>28</td><td>Bailey's Shrew</td><td>Endangered Mammals of Africa</td><td>Crocidura baileyi</td></tr><tr><th>29</th><td>29</td><td>Bale Monkey</td><td>Endangered Mammals of Africa</td><td>Chlorocebus djamdjamensis</td></tr><tr><th>30</th><td>30</td><td>Bale Shrew</td><td>Endangered Mammals of Africa</td><td>Crocidura bottegoides</td></tr><tr><th>&vellip;</th><td>&vellip;</td><td>&vellip;</td><td>&vellip;</td><td>&vellip;</td></tr></tbody></table>"
      ],
      "text/latex": [
       "\\begin{tabular}{r|ccccc}\n",
       "\t& Index & Common Name & Endangered Animals of Area & Scientific Name & \\\\\n",
       "\t\\hline\n",
       "\t& Int64 & String & String & String & \\\\\n",
       "\t\\hline\n",
       "\t1 & 1 & Abbott's Duiker & Endangered Mammals of Africa & Cephalophus spadix & $\\dots$ \\\\\n",
       "\t2 & 2 & Aberdare Mole Shrew & Endangered Mammals of Africa & Surdisorex norae & $\\dots$ \\\\\n",
       "\t3 & 3 & Addax & Endangered Mammals of Africa & Addax nasomaculatus & $\\dots$ \\\\\n",
       "\t4 & 4 & Aders' Duiker & Endangered Mammals of Africa & Cephalophus adersi & $\\dots$ \\\\\n",
       "\t5 & 5 & Aellen's Roundleaf Bat & Endangered Mammals of Africa & Hipposideros marisae & $\\dots$ \\\\\n",
       "\t6 & 6 & African Elephant & Endangered Mammals of Africa & Loxodonta africana & $\\dots$ \\\\\n",
       "\t7 & 7 & African Golden Cat & Endangered Mammals of Africa & Caracal aurata & $\\dots$ \\\\\n",
       "\t8 & 8 & African Lion & Endangered Mammals of Africa & Panthera leo & $\\dots$ \\\\\n",
       "\t9 & 9 & African White-bellied Pangolin & Endangered Mammals of Africa & Phataginus tricuspis & $\\dots$ \\\\\n",
       "\t10 & 10 & African Wild Ass & Endangered Mammals of Africa & Equus africanus & $\\dots$ \\\\\n",
       "\t11 & 11 & African Wild Dog & Endangered Mammals of Africa & Lycaon pictus & $\\dots$ \\\\\n",
       "\t12 & 12 & Alaotran Gentle Lemur & Endangered Mammals of Africa & Hapalemur alaotrensis & $\\dots$ \\\\\n",
       "\t13 & 13 & Aldabra Flying-fox & Endangered Mammals of Africa & Pteropus aldabrensis & $\\dots$ \\\\\n",
       "\t14 & 14 & Andaman Spiny Shrew & Endangered Mammals of Africa & Crocidura hispida & $\\dots$ \\\\\n",
       "\t15 & 15 & Angolan Epauletted Fruit Bat & Endangered Mammals of Africa & Epomophorus angolensis & $\\dots$ \\\\\n",
       "\t16 & 16 & Ankarana Sportive Lemur & Endangered Mammals of Africa & Lepilemur ankaranensis & $\\dots$ \\\\\n",
       "\t17 & 17 & Ansell's Shrew & Endangered Mammals of Africa & Crocidura ansellorum & $\\dots$ \\\\\n",
       "\t18 & 18 & Antafia Sportive Lemur & Endangered Mammals of Africa & Lepilemur aeeclis & $\\dots$ \\\\\n",
       "\t19 & 19 & Aquatic Tenrec & Endangered Mammals of Africa & Limnogale mergulus & $\\dots$ \\\\\n",
       "\t20 & 20 & Arend's Golden Mole & Endangered Mammals of Africa & Carpitalpa arendsi & $\\dots$ \\\\\n",
       "\t21 & 21 & Arrogant Shrew & Endangered Mammals of Africa & Sylvisorex morio & $\\dots$ \\\\\n",
       "\t22 & 22 & Avahi & Endangered Mammals of Africa & Avahi laniger & $\\dots$ \\\\\n",
       "\t23 & 23 & Awash Multimammate Mouse & Endangered Mammals of Africa & Mastomys awashensis & $\\dots$ \\\\\n",
       "\t24 & 24 & Aye-aye & Endangered Mammals of Africa & Daubentonia madagascariensis & $\\dots$ \\\\\n",
       "\t25 & 25 & Babault's Mouse Shrew & Endangered Mammals of Africa & Myosorex babaulti & $\\dots$ \\\\\n",
       "\t26 & 26 & Back-striped Sportive Lemur & Endangered Mammals of Africa & Lepilemur dorsalis & $\\dots$ \\\\\n",
       "\t27 & 27 & Baer's Wood Mouse & Endangered Mammals of Africa & Hylomyscus baeri & $\\dots$ \\\\\n",
       "\t28 & 28 & Bailey's Shrew & Endangered Mammals of Africa & Crocidura baileyi & $\\dots$ \\\\\n",
       "\t29 & 29 & Bale Monkey & Endangered Mammals of Africa & Chlorocebus djamdjamensis & $\\dots$ \\\\\n",
       "\t30 & 30 & Bale Shrew & Endangered Mammals of Africa & Crocidura bottegoides & $\\dots$ \\\\\n",
       "\t$\\dots$ & $\\dots$ & $\\dots$ & $\\dots$ & $\\dots$ &  \\\\\n",
       "\\end{tabular}\n"
      ],
      "text/plain": [
       "1329×9 DataFrame. Omitted printing of 7 columns\n",
       "│ Row  │ Index │ Common Name                    │\n",
       "│      │ \u001b[90mInt64\u001b[39m │ \u001b[90mString\u001b[39m                         │\n",
       "├──────┼───────┼────────────────────────────────┤\n",
       "│ 1    │ 1     │ Abbott's Duiker                │\n",
       "│ 2    │ 2     │ Aberdare Mole Shrew            │\n",
       "│ 3    │ 3     │ Addax                          │\n",
       "│ 4    │ 4     │ Aders' Duiker                  │\n",
       "│ 5    │ 5     │ Aellen's Roundleaf Bat         │\n",
       "│ 6    │ 6     │ African Elephant               │\n",
       "│ 7    │ 7     │ African Golden Cat             │\n",
       "│ 8    │ 8     │ African Lion                   │\n",
       "│ 9    │ 9     │ African White-bellied Pangolin │\n",
       "│ 10   │ 10    │ African Wild Ass               │\n",
       "⋮\n",
       "│ 1319 │ 196   │ Vicuna                         │\n",
       "│ 1320 │ 197   │ West Indian Manatee            │\n",
       "│ 1321 │ 198   │ Western Nectar Bat             │\n",
       "│ 1322 │ 199   │ White-cheeked Spider Monkey    │\n",
       "│ 1323 │ 200   │ White-eared Marmoset           │\n",
       "│ 1324 │ 201   │ White-footed Saki              │\n",
       "│ 1325 │ 202   │ White-lipped Peccary           │\n",
       "│ 1326 │ 203   │ White-nosed Saki               │\n",
       "│ 1327 │ 204   │ Woolly Spider Monkey           │\n",
       "│ 1328 │ 205   │ Yellow-tailed Woolly Monkey    │\n",
       "│ 1329 │ 206   │ Zuniga's Dark Rice Rat         │"
      ]
     },
     "execution_count": 19,
     "metadata": {},
     "output_type": "execute_result"
    }
   ],
   "source": [
    "names!(animals_final_df, [:Index, Symbol(\"Common Name\"), Symbol(\"Endangered Animals of Area\"), Symbol(\"Scientific Name\"), Symbol(\"Group\"), Symbol(\"Status/Date Listed as Endangered\"), Symbol(\"Area(s) Where Listed As Endangered\"), :Area, :Status])\n",
    "# change the columns' names into the standard format"
   ]
  },
  {
   "cell_type": "code",
   "execution_count": 20,
   "metadata": {},
   "outputs": [
    {
     "data": {
      "text/plain": [
       "9-element Array{Symbol,1}:\n",
       " :Index                                      \n",
       " Symbol(\"Common Name\")                       \n",
       " Symbol(\"Endangered Animals of Area\")        \n",
       " Symbol(\"Scientific Name\")                   \n",
       " :Group                                      \n",
       " Symbol(\"Status/Date Listed as Endangered\")  \n",
       " Symbol(\"Area(s) Where Listed As Endangered\")\n",
       " :Area                                       \n",
       " :Status                                     "
      ]
     },
     "execution_count": 20,
     "metadata": {},
     "output_type": "execute_result"
    }
   ],
   "source": [
    "names(animals_final_df)"
   ]
  },
  {
   "cell_type": "code",
   "execution_count": 21,
   "metadata": {},
   "outputs": [],
   "source": [
    "using Statistics, Query, VegaDatasets, VegaLite"
   ]
  },
  {
   "cell_type": "code",
   "execution_count": 22,
   "metadata": {},
   "outputs": [
    {
     "data": {
      "application/vnd.dataresource+json": {
       "data": [
        {
         "Area": "EN"
        },
        {
         "Area": "VU"
        },
        {
         "Area": "CR"
        },
        {
         "Area": "NT"
        },
        {
         "Area": "T-"
        },
        {
         "Area": "NA"
        },
        {
         "Area": "DD"
        }
       ],
       "schema": {
        "fields": [
         {
          "name": "Area",
          "type": "string"
         }
        ]
       }
      },
      "text/html": [
       "<table><thead><tr><th>Area</th></tr></thead><tbody><tr><td>&quot;EN&quot;</td></tr><tr><td>&quot;VU&quot;</td></tr><tr><td>&quot;CR&quot;</td></tr><tr><td>&quot;NT&quot;</td></tr><tr><td>&quot;T-&quot;</td></tr><tr><td>&quot;NA&quot;</td></tr><tr><td>&quot;DD&quot;</td></tr></tbody></table>"
      ],
      "text/plain": [
       "7x1 query result\n",
       "Area\n",
       "────\n",
       "EN  \n",
       "VU  \n",
       "CR  \n",
       "NT  \n",
       "T-  \n",
       "NA  \n",
       "DD  "
      ]
     },
     "execution_count": 22,
     "metadata": {},
     "output_type": "execute_result"
    }
   ],
   "source": [
    "animals_final_df |>\n",
    "  @groupby(_.Status) |>\n",
    "  @map({Area = key(_)})\n",
    "# show the different classifications of endangered animals"
   ]
  },
  {
   "cell_type": "code",
   "execution_count": 23,
   "metadata": {},
   "outputs": [
    {
     "name": "stderr",
     "output_type": "stream",
     "text": [
      "┌ Warning: sort!(df, cols=cols) is deprecated, use sort!(df, cols) instead\n",
      "│   caller = ip:0x0\n",
      "└ @ Core :-1\n"
     ]
    },
    {
     "data": {
      "text/html": [
       "<table class=\"data-frame\"><thead><tr><th></th><th>Index</th><th>Common Name</th><th>Endangered Animals of Area</th><th>Scientific Name</th></tr><tr><th></th><th>Int64</th><th>String</th><th>String</th><th>String</th></tr></thead><tbody><p>1,329 rows × 9 columns (omitted printing of 5 columns)</p><tr><th>1</th><td>3</td><td>Addax</td><td>Endangered Mammals of Africa</td><td>Addax nasomaculatus</td></tr><tr><th>2</th><td>4</td><td>Aders' Duiker</td><td>Endangered Mammals of Africa</td><td>Cephalophus adersi</td></tr><tr><th>3</th><td>44</td><td>Black Rhinoceros</td><td>Endangered Mammals of Africa</td><td>Diceros bicornis</td></tr><tr><th>4</th><td>74</td><td>Congo Shrew</td><td>Endangered Mammals of Africa</td><td>Congosorex phillipsorum</td></tr><tr><th>5</th><td>82</td><td>De Winton's Golden Mole</td><td>Endangered Mammals of Africa</td><td>Cryptochloris wintoni</td></tr><tr><th>6</th><td>90</td><td>Dryad Monkey</td><td>Endangered Mammals of Africa</td><td>Cercopithecus dryas</td></tr><tr><th>7</th><td>95</td><td>Eisentraut's Mouse Shrew</td><td>Endangered Mammals of Africa</td><td>Myosorex eisentrauti</td></tr><tr><th>8</th><td>97</td><td>Ethiopian Amphibious Rat</td><td>Endangered Mammals of Africa</td><td>Nilopegamys plumbeus</td></tr><tr><th>9</th><td>119</td><td>Greater Bamboo Lemur</td><td>Endangered Mammals of Africa</td><td>Prolemur simus</td></tr><tr><th>10</th><td>129</td><td>Harenna Shrew</td><td>Endangered Mammals of Africa</td><td>Crocidura harenna</td></tr><tr><th>11</th><td>143</td><td>Kipunji</td><td>Endangered Mammals of Africa</td><td>Rungwecebus kipunji</td></tr><tr><th>12</th><td>200</td><td>Riverine Rabbit</td><td>Endangered Mammals of Africa</td><td>Bunolagus monticularis</td></tr><tr><th>13</th><td>202</td><td>Rondo Bushbaby</td><td>Endangered Mammals of Africa</td><td>Galagoides rondoensis</td></tr><tr><th>14</th><td>214</td><td>Silky Sifaka</td><td>Endangered Mammals of Africa</td><td>Propithecus candidus</td></tr><tr><th>15</th><td>247</td><td>Wimmer's Shrew</td><td>Endangered Mammals of Africa</td><td>Crocidura wimmeri</td></tr><tr><th>16</th><td>1</td><td>Abbott's Duiker</td><td>Endangered Mammals of Africa</td><td>Cephalophus spadix</td></tr><tr><th>17</th><td>10</td><td>African Wild Ass</td><td>Endangered Mammals of Africa</td><td>Equus africanus</td></tr><tr><th>18</th><td>11</td><td>African Wild Dog</td><td>Endangered Mammals of Africa</td><td>Lycaon pictus</td></tr><tr><th>19</th><td>12</td><td>Alaotran Gentle Lemur</td><td>Endangered Mammals of Africa</td><td>Hapalemur alaotrensis</td></tr><tr><th>20</th><td>16</td><td>Ankarana Sportive Lemur</td><td>Endangered Mammals of Africa</td><td>Lepilemur ankaranensis</td></tr><tr><th>21</th><td>17</td><td>Ansell's Shrew</td><td>Endangered Mammals of Africa</td><td>Crocidura ansellorum</td></tr><tr><th>22</th><td>18</td><td>Antafia Sportive Lemur</td><td>Endangered Mammals of Africa</td><td>Lepilemur aeeclis</td></tr><tr><th>23</th><td>21</td><td>Arrogant Shrew</td><td>Endangered Mammals of Africa</td><td>Sylvisorex morio</td></tr><tr><th>24</th><td>22</td><td>Avahi</td><td>Endangered Mammals of Africa</td><td>Avahi laniger</td></tr><tr><th>25</th><td>26</td><td>Back-striped Sportive Lemur</td><td>Endangered Mammals of Africa</td><td>Lepilemur dorsalis</td></tr><tr><th>26</th><td>27</td><td>Baer's Wood Mouse</td><td>Endangered Mammals of Africa</td><td>Hylomyscus baeri</td></tr><tr><th>27</th><td>28</td><td>Bailey's Shrew</td><td>Endangered Mammals of Africa</td><td>Crocidura baileyi</td></tr><tr><th>28</th><td>30</td><td>Bale Shrew</td><td>Endangered Mammals of Africa</td><td>Crocidura bottegoides</td></tr><tr><th>29</th><td>31</td><td>Barbary Macaque</td><td>Endangered Mammals of Africa</td><td>Macaca sylvanus</td></tr><tr><th>30</th><td>32</td><td>Barbary Serval</td><td>Endangered Mammals of Africa</td><td>Leptailurus serval constantina</td></tr><tr><th>&vellip;</th><td>&vellip;</td><td>&vellip;</td><td>&vellip;</td><td>&vellip;</td></tr></tbody></table>"
      ],
      "text/latex": [
       "\\begin{tabular}{r|ccccc}\n",
       "\t& Index & Common Name & Endangered Animals of Area & Scientific Name & \\\\\n",
       "\t\\hline\n",
       "\t& Int64 & String & String & String & \\\\\n",
       "\t\\hline\n",
       "\t1 & 3 & Addax & Endangered Mammals of Africa & Addax nasomaculatus & $\\dots$ \\\\\n",
       "\t2 & 4 & Aders' Duiker & Endangered Mammals of Africa & Cephalophus adersi & $\\dots$ \\\\\n",
       "\t3 & 44 & Black Rhinoceros & Endangered Mammals of Africa & Diceros bicornis & $\\dots$ \\\\\n",
       "\t4 & 74 & Congo Shrew & Endangered Mammals of Africa & Congosorex phillipsorum & $\\dots$ \\\\\n",
       "\t5 & 82 & De Winton's Golden Mole & Endangered Mammals of Africa & Cryptochloris wintoni & $\\dots$ \\\\\n",
       "\t6 & 90 & Dryad Monkey & Endangered Mammals of Africa & Cercopithecus dryas & $\\dots$ \\\\\n",
       "\t7 & 95 & Eisentraut's Mouse Shrew & Endangered Mammals of Africa & Myosorex eisentrauti & $\\dots$ \\\\\n",
       "\t8 & 97 & Ethiopian Amphibious Rat & Endangered Mammals of Africa & Nilopegamys plumbeus & $\\dots$ \\\\\n",
       "\t9 & 119 & Greater Bamboo Lemur & Endangered Mammals of Africa & Prolemur simus & $\\dots$ \\\\\n",
       "\t10 & 129 & Harenna Shrew & Endangered Mammals of Africa & Crocidura harenna & $\\dots$ \\\\\n",
       "\t11 & 143 & Kipunji & Endangered Mammals of Africa & Rungwecebus kipunji & $\\dots$ \\\\\n",
       "\t12 & 200 & Riverine Rabbit & Endangered Mammals of Africa & Bunolagus monticularis & $\\dots$ \\\\\n",
       "\t13 & 202 & Rondo Bushbaby & Endangered Mammals of Africa & Galagoides rondoensis & $\\dots$ \\\\\n",
       "\t14 & 214 & Silky Sifaka & Endangered Mammals of Africa & Propithecus candidus & $\\dots$ \\\\\n",
       "\t15 & 247 & Wimmer's Shrew & Endangered Mammals of Africa & Crocidura wimmeri & $\\dots$ \\\\\n",
       "\t16 & 1 & Abbott's Duiker & Endangered Mammals of Africa & Cephalophus spadix & $\\dots$ \\\\\n",
       "\t17 & 10 & African Wild Ass & Endangered Mammals of Africa & Equus africanus & $\\dots$ \\\\\n",
       "\t18 & 11 & African Wild Dog & Endangered Mammals of Africa & Lycaon pictus & $\\dots$ \\\\\n",
       "\t19 & 12 & Alaotran Gentle Lemur & Endangered Mammals of Africa & Hapalemur alaotrensis & $\\dots$ \\\\\n",
       "\t20 & 16 & Ankarana Sportive Lemur & Endangered Mammals of Africa & Lepilemur ankaranensis & $\\dots$ \\\\\n",
       "\t21 & 17 & Ansell's Shrew & Endangered Mammals of Africa & Crocidura ansellorum & $\\dots$ \\\\\n",
       "\t22 & 18 & Antafia Sportive Lemur & Endangered Mammals of Africa & Lepilemur aeeclis & $\\dots$ \\\\\n",
       "\t23 & 21 & Arrogant Shrew & Endangered Mammals of Africa & Sylvisorex morio & $\\dots$ \\\\\n",
       "\t24 & 22 & Avahi & Endangered Mammals of Africa & Avahi laniger & $\\dots$ \\\\\n",
       "\t25 & 26 & Back-striped Sportive Lemur & Endangered Mammals of Africa & Lepilemur dorsalis & $\\dots$ \\\\\n",
       "\t26 & 27 & Baer's Wood Mouse & Endangered Mammals of Africa & Hylomyscus baeri & $\\dots$ \\\\\n",
       "\t27 & 28 & Bailey's Shrew & Endangered Mammals of Africa & Crocidura baileyi & $\\dots$ \\\\\n",
       "\t28 & 30 & Bale Shrew & Endangered Mammals of Africa & Crocidura bottegoides & $\\dots$ \\\\\n",
       "\t29 & 31 & Barbary Macaque & Endangered Mammals of Africa & Macaca sylvanus & $\\dots$ \\\\\n",
       "\t30 & 32 & Barbary Serval & Endangered Mammals of Africa & Leptailurus serval constantina & $\\dots$ \\\\\n",
       "\t$\\dots$ & $\\dots$ & $\\dots$ & $\\dots$ & $\\dots$ &  \\\\\n",
       "\\end{tabular}\n"
      ],
      "text/plain": [
       "1329×9 DataFrame. Omitted printing of 7 columns\n",
       "│ Row  │ Index │ Common Name              │\n",
       "│      │ \u001b[90mInt64\u001b[39m │ \u001b[90mString\u001b[39m                   │\n",
       "├──────┼───────┼──────────────────────────┤\n",
       "│ 1    │ 3     │ Addax                    │\n",
       "│ 2    │ 4     │ Aders' Duiker            │\n",
       "│ 3    │ 44    │ Black Rhinoceros         │\n",
       "│ 4    │ 74    │ Congo Shrew              │\n",
       "│ 5    │ 82    │ De Winton's Golden Mole  │\n",
       "│ 6    │ 90    │ Dryad Monkey             │\n",
       "│ 7    │ 95    │ Eisentraut's Mouse Shrew │\n",
       "│ 8    │ 97    │ Ethiopian Amphibious Rat │\n",
       "│ 9    │ 119   │ Greater Bamboo Lemur     │\n",
       "│ 10   │ 129   │ Harenna Shrew            │\n",
       "⋮\n",
       "│ 1319 │ 23    │ Palau Flying Fox         │\n",
       "│ 1320 │ 26    │ Samoan Flying Fox        │\n",
       "│ 1321 │ 6     │ Comoro Rousette          │\n",
       "│ 1322 │ 7     │ Fijian Blossom Bat       │\n",
       "│ 1323 │ 11    │ Hooded Seal              │\n",
       "│ 1324 │ 15    │ Kosrae Flying Fox        │\n",
       "│ 1325 │ 19    │ Mongoose Lemur           │\n",
       "│ 1326 │ 24    │ Philippine Brown Deer    │\n",
       "│ 1327 │ 25    │ Pohnpei Flying Fox       │\n",
       "│ 1328 │ 29    │ Sperm Whale              │\n",
       "│ 1329 │ 31    │ Yap Flying Fox           │"
      ]
     },
     "execution_count": 23,
     "metadata": {},
     "output_type": "execute_result"
    }
   ],
   "source": [
    "sort!(animals_final_df, cols = (:8, :9), rev = (false, false))\n",
    "# sort the endangered animals by \"Area\" and \"Status\""
   ]
  },
  {
   "cell_type": "code",
   "execution_count": 24,
   "metadata": {},
   "outputs": [
    {
     "name": "stderr",
     "output_type": "stream",
     "text": [
      "┌ Warning: `getindex(df::DataFrame, col_ind::ColumnIndex)` is deprecated, use `df[!, col_ind]` instead.\n",
      "│   caller = top-level scope at In[24]:1\n",
      "└ @ Core In[24]:1\n",
      "┌ Warning: implicit broadcasting in setindex! is deprecated; use `df[row_inds, col_ind] .= Ref(v)` broadcasting assignment to change the column in place\n",
      "│   caller = setindex!(::DataFrame, ::String, ::BitArray{1}, ::Symbol) at deprecated.jl:1487\n",
      "└ @ DataFrames /Users/dijian/.julia/packages/DataFrames/Iyo5L/src/deprecated.jl:1487\n"
     ]
    },
    {
     "data": {
      "text/plain": [
       "\"NT\""
      ]
     },
     "execution_count": 24,
     "metadata": {},
     "output_type": "execute_result"
    }
   ],
   "source": [
    "animals_final_df[animals_final_df[:Status] .== \"T-\", :Status] = \"NT\"\n",
    "# change the \"T-\" to \"NT\" according to the definition of the classification of endangered animals"
   ]
  },
  {
   "cell_type": "code",
   "execution_count": 25,
   "metadata": {},
   "outputs": [
    {
     "data": {
      "text/html": [
       "<table class=\"data-frame\"><thead><tr><th></th><th>Status</th><th>x1</th></tr><tr><th></th><th>SubStrin…</th><th>Int64</th></tr></thead><tbody><p>6 rows × 2 columns</p><tr><th>1</th><td>CR</td><td>104</td></tr><tr><th>2</th><td>EN</td><td>554</td></tr><tr><th>3</th><td>NT</td><td>326</td></tr><tr><th>4</th><td>VU</td><td>343</td></tr><tr><th>5</th><td>NA</td><td>1</td></tr><tr><th>6</th><td>DD</td><td>1</td></tr></tbody></table>"
      ],
      "text/latex": [
       "\\begin{tabular}{r|cc}\n",
       "\t& Status & x1\\\\\n",
       "\t\\hline\n",
       "\t& SubStrin… & Int64\\\\\n",
       "\t\\hline\n",
       "\t1 & CR & 104 \\\\\n",
       "\t2 & EN & 554 \\\\\n",
       "\t3 & NT & 326 \\\\\n",
       "\t4 & VU & 343 \\\\\n",
       "\t5 & NA & 1 \\\\\n",
       "\t6 & DD & 1 \\\\\n",
       "\\end{tabular}\n"
      ],
      "text/plain": [
       "6×2 DataFrame\n",
       "│ Row │ Status    │ x1    │\n",
       "│     │ \u001b[90mSubStrin…\u001b[39m │ \u001b[90mInt64\u001b[39m │\n",
       "├─────┼───────────┼───────┤\n",
       "│ 1   │ CR        │ 104   │\n",
       "│ 2   │ EN        │ 554   │\n",
       "│ 3   │ NT        │ 326   │\n",
       "│ 4   │ VU        │ 343   │\n",
       "│ 5   │ NA        │ 1     │\n",
       "│ 6   │ DD        │ 1     │"
      ]
     },
     "execution_count": 25,
     "metadata": {},
     "output_type": "execute_result"
    }
   ],
   "source": [
    "by(animals_final_df, :Status , nrow)\n",
    "# count the number of different status for endangered animals"
   ]
  },
  {
   "cell_type": "code",
   "execution_count": 26,
   "metadata": {},
   "outputs": [
    {
     "name": "stderr",
     "output_type": "stream",
     "text": [
      "┌ Warning: `getindex(df::DataFrame, col_ind::ColumnIndex)` is deprecated, use `df[!, col_ind]` instead.\n",
      "│   caller = top-level scope at In[26]:1\n",
      "└ @ Core In[26]:1\n",
      "┌ Warning: `getindex(df::DataFrame, col_ind::ColumnIndex)` is deprecated, use `df[!, col_ind]` instead.\n",
      "│   caller = top-level scope at In[26]:2\n",
      "└ @ Core In[26]:2\n",
      "┌ Warning: `getindex(df::DataFrame, col_ind::ColumnIndex)` is deprecated, use `df[!, col_ind]` instead.\n",
      "│   caller = top-level scope at In[26]:3\n",
      "└ @ Core In[26]:3\n",
      "┌ Warning: `getindex(df::DataFrame, col_ind::ColumnIndex)` is deprecated, use `df[!, col_ind]` instead.\n",
      "│   caller = top-level scope at In[26]:4\n",
      "└ @ Core In[26]:4\n",
      "┌ Warning: `getindex(df::DataFrame, col_ind::ColumnIndex)` is deprecated, use `df[!, col_ind]` instead.\n",
      "│   caller = top-level scope at In[26]:5\n",
      "└ @ Core In[26]:5\n"
     ]
    },
    {
     "data": {
      "text/plain": [
       "\"Middle East\""
      ]
     },
     "execution_count": 26,
     "metadata": {},
     "output_type": "execute_result"
    }
   ],
   "source": [
    "animals_final_df[animals_final_df[:Area] .== \"Central America\", :Area] = \"North America\"\n",
    "animals_final_df[animals_final_df[:Area] .== \"Hawaii\", :Area] = \"North America\"\n",
    "animals_final_df[animals_final_df[:Area] .== \"the Oceans and Island Nations\", :Area] = \"Oceania\"\n",
    "animals_final_df[animals_final_df[:Area] .== \"Australia\", :Area] = \"Oceania\"\n",
    "animals_final_df[animals_final_df[:Area] .== \"the Middle East\", :Area] = \"Middle East\"\n",
    "# use the standard names for each area"
   ]
  },
  {
   "cell_type": "code",
   "execution_count": 27,
   "metadata": {},
   "outputs": [
    {
     "data": {
      "text/html": [
       "<table class=\"data-frame\"><thead><tr><th></th><th>Area</th><th>x1</th></tr><tr><th></th><th>SubStrin…</th><th>Int64</th></tr></thead><tbody><p>8 rows × 2 columns</p><tr><th>1</th><td>Africa</td><td>253</td></tr><tr><th>2</th><td>Antarctica</td><td>9</td></tr><tr><th>3</th><td>Asia</td><td>333</td></tr><tr><th>4</th><td>Oceania</td><td>152</td></tr><tr><th>5</th><td>North America</td><td>223</td></tr><tr><th>6</th><td>Europe</td><td>86</td></tr><tr><th>7</th><td>South America</td><td>206</td></tr><tr><th>8</th><td>Middle East</td><td>67</td></tr></tbody></table>"
      ],
      "text/latex": [
       "\\begin{tabular}{r|cc}\n",
       "\t& Area & x1\\\\\n",
       "\t\\hline\n",
       "\t& SubStrin… & Int64\\\\\n",
       "\t\\hline\n",
       "\t1 & Africa & 253 \\\\\n",
       "\t2 & Antarctica & 9 \\\\\n",
       "\t3 & Asia & 333 \\\\\n",
       "\t4 & Oceania & 152 \\\\\n",
       "\t5 & North America & 223 \\\\\n",
       "\t6 & Europe & 86 \\\\\n",
       "\t7 & South America & 206 \\\\\n",
       "\t8 & Middle East & 67 \\\\\n",
       "\\end{tabular}\n"
      ],
      "text/plain": [
       "8×2 DataFrame\n",
       "│ Row │ Area          │ x1    │\n",
       "│     │ \u001b[90mSubStrin…\u001b[39m     │ \u001b[90mInt64\u001b[39m │\n",
       "├─────┼───────────────┼───────┤\n",
       "│ 1   │ Africa        │ 253   │\n",
       "│ 2   │ Antarctica    │ 9     │\n",
       "│ 3   │ Asia          │ 333   │\n",
       "│ 4   │ Oceania       │ 152   │\n",
       "│ 5   │ North America │ 223   │\n",
       "│ 6   │ Europe        │ 86    │\n",
       "│ 7   │ South America │ 206   │\n",
       "│ 8   │ Middle East   │ 67    │"
      ]
     },
     "execution_count": 27,
     "metadata": {},
     "output_type": "execute_result"
    }
   ],
   "source": [
    "by(animals_final_df, :Area , nrow)\n",
    "# Count the number of different status for endangered animals"
   ]
  },
  {
   "cell_type": "code",
   "execution_count": null,
   "metadata": {},
   "outputs": [],
   "source": []
  }
 ],
 "metadata": {
  "kernelspec": {
   "display_name": "Julia 1.1.1",
   "language": "julia",
   "name": "julia-1.1"
  },
  "language_info": {
   "file_extension": ".jl",
   "mimetype": "application/julia",
   "name": "julia",
   "version": "1.1.1"
  }
 },
 "nbformat": 4,
 "nbformat_minor": 4
}
