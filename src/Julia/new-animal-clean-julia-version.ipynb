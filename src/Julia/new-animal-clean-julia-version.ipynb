{
 "cells": [
  {
   "cell_type": "code",
   "execution_count": 1,
   "metadata": {},
   "outputs": [],
   "source": [
    "using Pkg "
   ]
  },
  {
   "cell_type": "code",
   "execution_count": 2,
   "metadata": {},
   "outputs": [],
   "source": [
    "using CSV, DataFrames"
   ]
  },
  {
   "cell_type": "code",
   "execution_count": 3,
   "metadata": {},
   "outputs": [
    {
     "name": "stderr",
     "output_type": "stream",
     "text": [
      "┌ Warning: `getindex(df::DataFrame, col_ind::ColumnIndex)` is deprecated, use `df[!, col_ind]` instead.\n",
      "│   caller = top-level scope at In[3]:15\n",
      "└ @ Core .\\In[3]:15\n",
      "┌ Warning: `insert!(df::DataFrame, col_ind::Int, item, name::Symbol; makeunique::Bool=false)` is deprecated, use `insertcols!(df, col_ind, name => item; makeunique=makeunique)` instead.\n",
      "│   caller = top-level scope at In[3]:15\n",
      "└ @ Core .\\In[3]:15\n",
      "┌ Warning: `getindex(df::DataFrame, col_ind::ColumnIndex)` is deprecated, use `df[!, col_ind]` instead.\n",
      "│   caller = top-level scope at In[3]:17\n",
      "└ @ Core .\\In[3]:17\n",
      "┌ Warning: `setindex!(df::DataFrame, v::AbstractVector, col_ind::ColumnIndex)` is deprecated, use `begin\n",
      "│     df[!, col_ind] = v\n",
      "│     df\n",
      "│ end` instead.\n",
      "│   caller = top-level scope at In[3]:17\n",
      "└ @ Core .\\In[3]:17\n"
     ]
    },
    {
     "data": {
      "text/plain": [
       "\"new-animals_all_Julia.csv\""
      ]
     },
     "execution_count": 3,
     "metadata": {},
     "output_type": "execute_result"
    }
   ],
   "source": [
    "#create a new column Area\n",
    "function create_Area(x)\n",
    "    #use regular expression to match the behind part of \"Endangered Mammals of \"\n",
    "    my_matches_step1 = match(r\"(?<=Endangered Mammals of )(.*)\", x)\n",
    "    #use regular expression to match numeric and alphabet characters\n",
    "    my_matches_step2 = match(r\"[a-zA-Z0-9 -]*\", my_matches_step1.match)\n",
    "    return my_matches_step2.match\n",
    "end\n",
    "animals_final_df = DataFrame()\n",
    "for num = 1:11\n",
    "    #read 11 mammal animal files\n",
    "    animals_df = CSV.read(\"new-animals_$num.csv\")\n",
    "    animals_df = animals_df |> DataFrame\n",
    "    #add a new column \"Area\"\n",
    "    insert!(animals_df, 9, create_Area.(animals_df[Symbol(\"Endangered Animals of Area\")]), :Area)\n",
    "    #add a new column \"Status\"\n",
    "    animals_df[:Status] = SubString.(animals_df[Symbol(\"Status/Date Listed as Endangered:\")], 1, 2)\n",
    "    if num == 1\n",
    "        animals_final_df = animals_df\n",
    "    else\n",
    "        animals_final_df = [animals_final_df;animals_df]\n",
    "    end\n",
    "end\n",
    "CSV.write(\"new-animals_all_Julia.csv\",  DataFrame(animals_final_df), writeheader=true)"
   ]
  },
  {
   "cell_type": "code",
   "execution_count": null,
   "metadata": {},
   "outputs": [],
   "source": []
  }
 ],
 "metadata": {
  "kernelspec": {
   "display_name": "Julia 1.1.1",
   "language": "julia",
   "name": "julia-1.1"
  },
  "language_info": {
   "file_extension": ".jl",
   "mimetype": "application/julia",
   "name": "julia",
   "version": "1.1.1"
  }
 },
 "nbformat": 4,
 "nbformat_minor": 2
}
