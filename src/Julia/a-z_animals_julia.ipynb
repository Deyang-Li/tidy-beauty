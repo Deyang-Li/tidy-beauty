{
 "cells": [
  {
   "cell_type": "code",
   "execution_count": 11,
   "metadata": {},
   "outputs": [],
   "source": [
    "using Pkg"
   ]
  },
  {
   "cell_type": "code",
   "execution_count": 12,
   "metadata": {},
   "outputs": [],
   "source": [
    "using CSV, DataFrames"
   ]
  },
  {
   "cell_type": "code",
   "execution_count": 6,
   "metadata": {},
   "outputs": [
    {
     "data": {
      "text/html": [
       "<table class=\"data-frame\"><thead><tr><th></th><th>Index</th><th>Name</th><th>Kingdom</th><th>Phylum</th><th>Class</th><th>Order</th></tr><tr><th></th><th>Int64</th><th>String</th><th>String</th><th>String</th><th>String</th><th>String</th></tr></thead><tbody><p>593 rows × 62 columns (omitted printing of 56 columns)</p><tr><th>1</th><td>1</td><td>Aardvark</td><td>Animalia</td><td>Chordata</td><td>Mammalia</td><td>Tubulidentata</td></tr><tr><th>2</th><td>2</td><td>Abyssinian</td><td>NA</td><td>NA</td><td>NA</td><td>NA</td></tr><tr><th>3</th><td>3</td><td>Adelie Penguin</td><td>Animalia</td><td>Chordata</td><td>Aves</td><td>Sphenisciformes</td></tr><tr><th>4</th><td>4</td><td>Affenpinscher</td><td>NA</td><td>NA</td><td>NA</td><td>NA</td></tr><tr><th>5</th><td>5</td><td>Afghan Hound</td><td>NA</td><td>NA</td><td>NA</td><td>NA</td></tr><tr><th>6</th><td>6</td><td>African Bush Elephant</td><td>Animalia</td><td>Chordata</td><td>Mammalia</td><td>Proboscidea</td></tr><tr><th>7</th><td>7</td><td>African Civet</td><td>Animalia</td><td>Chordata</td><td>Mammalia</td><td>Carnivora</td></tr><tr><th>8</th><td>8</td><td>African Clawed Frog</td><td>Animalia</td><td>Chordata</td><td>Amphibia</td><td>Anura</td></tr><tr><th>9</th><td>9</td><td>African Forest Elephant</td><td>Animalia</td><td>Chordata</td><td>Mammalia</td><td>Proboscidea</td></tr><tr><th>10</th><td>10</td><td>African Palm Civet</td><td>Animalia</td><td>Chordata</td><td>Mammalia</td><td>Carnivora</td></tr><tr><th>11</th><td>11</td><td>African Penguin</td><td>Animalia</td><td>Chordata</td><td>Aves</td><td>Sphenisciformes</td></tr><tr><th>12</th><td>12</td><td>African Tree Toad</td><td>Animalia</td><td>Chordata</td><td>Amphibia</td><td>Anura</td></tr><tr><th>13</th><td>13</td><td>African Wild Dog</td><td>Animalia</td><td>Chordata</td><td>Mammalia</td><td>Carnivora</td></tr><tr><th>14</th><td>14</td><td>Ainu Dog</td><td>NA</td><td>NA</td><td>NA</td><td>NA</td></tr><tr><th>15</th><td>15</td><td>Airedale Terrier</td><td>NA</td><td>NA</td><td>NA</td><td>NA</td></tr><tr><th>16</th><td>16</td><td>Akbash</td><td>NA</td><td>NA</td><td>NA</td><td>NA</td></tr><tr><th>17</th><td>17</td><td>Akita</td><td>NA</td><td>NA</td><td>NA</td><td>NA</td></tr><tr><th>18</th><td>18</td><td>Alaskan Malamute</td><td>NA</td><td>NA</td><td>NA</td><td>NA</td></tr><tr><th>19</th><td>19</td><td>Albatross</td><td>Animalia</td><td>Chordata</td><td>Aves</td><td>Procellariiformes</td></tr><tr><th>20</th><td>20</td><td>Aldabra Giant Tortoise</td><td>Animalia</td><td>Chordata</td><td>Reptilia</td><td>Testudines</td></tr><tr><th>21</th><td>21</td><td>Alligator</td><td>Animalia</td><td>Chordata</td><td>Reptilia</td><td>Crocodilia</td></tr><tr><th>22</th><td>22</td><td>Alpine Dachsbracke</td><td>NA</td><td>NA</td><td>NA</td><td>NA</td></tr><tr><th>23</th><td>23</td><td>American Bulldog</td><td>NA</td><td>NA</td><td>NA</td><td>NA</td></tr><tr><th>24</th><td>24</td><td>American Cocker Spaniel</td><td>NA</td><td>NA</td><td>NA</td><td>NA</td></tr><tr><th>25</th><td>25</td><td>American Coonhound</td><td>NA</td><td>NA</td><td>NA</td><td>NA</td></tr><tr><th>26</th><td>26</td><td>American Eskimo Dog</td><td>NA</td><td>NA</td><td>NA</td><td>NA</td></tr><tr><th>27</th><td>27</td><td>American Foxhound</td><td>NA</td><td>NA</td><td>NA</td><td>NA</td></tr><tr><th>28</th><td>28</td><td>American Pit Bull Terrier</td><td>NA</td><td>NA</td><td>NA</td><td>NA</td></tr><tr><th>29</th><td>29</td><td>American Staffordshire Terrier</td><td>NA</td><td>NA</td><td>NA</td><td>NA</td></tr><tr><th>30</th><td>30</td><td>American Water Spaniel</td><td>NA</td><td>NA</td><td>NA</td><td>NA</td></tr><tr><th>&vellip;</th><td>&vellip;</td><td>&vellip;</td><td>&vellip;</td><td>&vellip;</td><td>&vellip;</td><td>&vellip;</td></tr></tbody></table>"
      ],
      "text/latex": [
       "\\begin{tabular}{r|ccccccc}\n",
       "\t& Index & Name & Kingdom & Phylum & Class & Order & \\\\\n",
       "\t\\hline\n",
       "\t& Int64 & String & String & String & String & String & \\\\\n",
       "\t\\hline\n",
       "\t1 & 1 & Aardvark & Animalia & Chordata & Mammalia & Tubulidentata & $\\dots$ \\\\\n",
       "\t2 & 2 & Abyssinian & NA & NA & NA & NA & $\\dots$ \\\\\n",
       "\t3 & 3 & Adelie Penguin & Animalia & Chordata & Aves & Sphenisciformes & $\\dots$ \\\\\n",
       "\t4 & 4 & Affenpinscher & NA & NA & NA & NA & $\\dots$ \\\\\n",
       "\t5 & 5 & Afghan Hound & NA & NA & NA & NA & $\\dots$ \\\\\n",
       "\t6 & 6 & African Bush Elephant & Animalia & Chordata & Mammalia & Proboscidea & $\\dots$ \\\\\n",
       "\t7 & 7 & African Civet & Animalia & Chordata & Mammalia & Carnivora & $\\dots$ \\\\\n",
       "\t8 & 8 & African Clawed Frog & Animalia & Chordata & Amphibia & Anura & $\\dots$ \\\\\n",
       "\t9 & 9 & African Forest Elephant & Animalia & Chordata & Mammalia & Proboscidea & $\\dots$ \\\\\n",
       "\t10 & 10 & African Palm Civet & Animalia & Chordata & Mammalia & Carnivora & $\\dots$ \\\\\n",
       "\t11 & 11 & African Penguin & Animalia & Chordata & Aves & Sphenisciformes & $\\dots$ \\\\\n",
       "\t12 & 12 & African Tree Toad & Animalia & Chordata & Amphibia & Anura & $\\dots$ \\\\\n",
       "\t13 & 13 & African Wild Dog & Animalia & Chordata & Mammalia & Carnivora & $\\dots$ \\\\\n",
       "\t14 & 14 & Ainu Dog & NA & NA & NA & NA & $\\dots$ \\\\\n",
       "\t15 & 15 & Airedale Terrier & NA & NA & NA & NA & $\\dots$ \\\\\n",
       "\t16 & 16 & Akbash & NA & NA & NA & NA & $\\dots$ \\\\\n",
       "\t17 & 17 & Akita & NA & NA & NA & NA & $\\dots$ \\\\\n",
       "\t18 & 18 & Alaskan Malamute & NA & NA & NA & NA & $\\dots$ \\\\\n",
       "\t19 & 19 & Albatross & Animalia & Chordata & Aves & Procellariiformes & $\\dots$ \\\\\n",
       "\t20 & 20 & Aldabra Giant Tortoise & Animalia & Chordata & Reptilia & Testudines & $\\dots$ \\\\\n",
       "\t21 & 21 & Alligator & Animalia & Chordata & Reptilia & Crocodilia & $\\dots$ \\\\\n",
       "\t22 & 22 & Alpine Dachsbracke & NA & NA & NA & NA & $\\dots$ \\\\\n",
       "\t23 & 23 & American Bulldog & NA & NA & NA & NA & $\\dots$ \\\\\n",
       "\t24 & 24 & American Cocker Spaniel & NA & NA & NA & NA & $\\dots$ \\\\\n",
       "\t25 & 25 & American Coonhound & NA & NA & NA & NA & $\\dots$ \\\\\n",
       "\t26 & 26 & American Eskimo Dog & NA & NA & NA & NA & $\\dots$ \\\\\n",
       "\t27 & 27 & American Foxhound & NA & NA & NA & NA & $\\dots$ \\\\\n",
       "\t28 & 28 & American Pit Bull Terrier & NA & NA & NA & NA & $\\dots$ \\\\\n",
       "\t29 & 29 & American Staffordshire Terrier & NA & NA & NA & NA & $\\dots$ \\\\\n",
       "\t30 & 30 & American Water Spaniel & NA & NA & NA & NA & $\\dots$ \\\\\n",
       "\t$\\dots$ & $\\dots$ & $\\dots$ & $\\dots$ & $\\dots$ & $\\dots$ & $\\dots$ &  \\\\\n",
       "\\end{tabular}\n"
      ],
      "text/plain": [
       "593×62 DataFrame. Omitted printing of 57 columns\n",
       "│ Row │ Index │ Name                    │ Kingdom  │ Phylum   │ Class          │\n",
       "│     │ \u001b[90mInt64\u001b[39m │ \u001b[90mString\u001b[39m                  │ \u001b[90mString\u001b[39m   │ \u001b[90mString\u001b[39m   │ \u001b[90mString\u001b[39m         │\n",
       "├─────┼───────┼─────────────────────────┼──────────┼──────────┼────────────────┤\n",
       "│ 1   │ 1     │ Aardvark                │ Animalia │ Chordata │ Mammalia       │\n",
       "│ 2   │ 2     │ Abyssinian              │ NA       │ NA       │ NA             │\n",
       "│ 3   │ 3     │ Adelie Penguin          │ Animalia │ Chordata │ Aves           │\n",
       "│ 4   │ 4     │ Affenpinscher           │ NA       │ NA       │ NA             │\n",
       "│ 5   │ 5     │ Afghan Hound            │ NA       │ NA       │ NA             │\n",
       "│ 6   │ 6     │ African Bush Elephant   │ Animalia │ Chordata │ Mammalia       │\n",
       "│ 7   │ 7     │ African Civet           │ Animalia │ Chordata │ Mammalia       │\n",
       "│ 8   │ 8     │ African Clawed Frog     │ Animalia │ Chordata │ Amphibia       │\n",
       "│ 9   │ 9     │ African Forest Elephant │ Animalia │ Chordata │ Mammalia       │\n",
       "│ 10  │ 10    │ African Palm Civet      │ Animalia │ Chordata │ Mammalia       │\n",
       "⋮\n",
       "│ 583 │ 583   │ Woolly Monkey           │ Animalia │ Chordata │ Mammalia       │\n",
       "│ 584 │ 584   │ Wrasse                  │ Animalia │ Chordata │ Actinopterygii │\n",
       "│ 585 │ 585   │ X-Ray Tetra             │ Animalia │ Chordata │ Actinopterygii │\n",
       "│ 586 │ 586   │ Yak                     │ Animalia │ Chordata │ Mammalia       │\n",
       "│ 587 │ 587   │ Yellow-Eyed Penguin     │ Animalia │ Chordata │ Aves           │\n",
       "│ 588 │ 588   │ Yorkshire Terrier       │ NA       │ NA       │ NA             │\n",
       "│ 589 │ 589   │ Zebra                   │ Animalia │ Chordata │ Mammalia       │\n",
       "│ 590 │ 590   │ Zebra Shark             │ Animalia │ Chordata │ Chondrichthyes │\n",
       "│ 591 │ 591   │ Zebu                    │ Animalia │ Chordata │ Mammalia       │\n",
       "│ 592 │ 592   │ Zonkey                  │ Animalia │ Chordata │ Mammalia       │\n",
       "│ 593 │ 593   │ Zorse                   │ Animalia │ Chordata │ Mammalia       │"
      ]
     },
     "execution_count": 6,
     "metadata": {},
     "output_type": "execute_result"
    }
   ],
   "source": [
    "animals_df = CSV.read(\"a-z-animal_name.csv\")\n",
    "animals_df |>\n",
    "  DataFrame"
   ]
  },
  {
   "cell_type": "code",
   "execution_count": 7,
   "metadata": {},
   "outputs": [
    {
     "data": {
      "text/plain": [
       "62-element Array{Symbol,1}:\n",
       " :Index                       \n",
       " :Name                        \n",
       " :Kingdom                     \n",
       " :Phylum                      \n",
       " :Class                       \n",
       " :Order                       \n",
       " :Family                      \n",
       " :Genus                       \n",
       " Symbol(\"Scientific Name\")    \n",
       " Symbol(\"Common Name\")        \n",
       " Symbol(\"Other Name(s)\")      \n",
       " :Group                       \n",
       " Symbol(\"Number Of Species\")  \n",
       " ⋮                            \n",
       " Symbol(\"Water Type\")         \n",
       " Symbol(\"Average Spawn Size\") \n",
       " Symbol(\"Age Of Independence\")\n",
       " Symbol(\"Main Prey\")          \n",
       " Symbol(\"Average Size\")       \n",
       " Symbol(\"Optimum pH Level\")   \n",
       " Symbol(\"Favourite Food\")     \n",
       " Symbol(\"Special Features\")   \n",
       " :Size                        \n",
       " :Extinct                     \n",
       " Symbol(\"Litter Size\")        \n",
       " :Subfamily                   "
      ]
     },
     "execution_count": 7,
     "metadata": {},
     "output_type": "execute_result"
    }
   ],
   "source": [
    "names(animals_df)"
   ]
  },
  {
   "cell_type": "code",
   "execution_count": 20,
   "metadata": {},
   "outputs": [
    {
     "name": "stderr",
     "output_type": "stream",
     "text": [
      "┌ Warning: `getindex(df::DataFrame, col_inds::Union{AbstractVector, Regex, Not})` is deprecated, use `df[:, col_inds]` instead.\n",
      "│   caller = top-level scope at In[20]:1\n",
      "└ @ Core In[20]:1\n"
     ]
    },
    {
     "data": {
      "text/html": [
       "<table class=\"data-frame\"><thead><tr><th></th><th>Index</th><th>Name</th><th>Group</th><th>Location</th></tr><tr><th></th><th>Int64</th><th>String</th><th>String</th><th>String</th></tr></thead><tbody><p>593 rows × 8 columns (omitted printing of 4 columns)</p><tr><th>1</th><td>1</td><td>Aardvark</td><td>Mammal</td><td>Sub-Saharan Africa</td></tr><tr><th>2</th><td>2</td><td>Abyssinian</td><td>Cat</td><td>NA</td></tr><tr><th>3</th><td>3</td><td>Adelie Penguin</td><td>Bird</td><td>Coastal Antarctica</td></tr><tr><th>4</th><td>4</td><td>Affenpinscher</td><td>Dog</td><td>NA</td></tr><tr><th>5</th><td>5</td><td>Afghan Hound</td><td>Dog</td><td>NA</td></tr><tr><th>6</th><td>6</td><td>African Bush Elephant</td><td>Mammal</td><td>central and southern Africa</td></tr><tr><th>7</th><td>7</td><td>African Civet</td><td>Mammal</td><td>across sub-Saharan Africa</td></tr><tr><th>8</th><td>8</td><td>African Clawed Frog</td><td>Amphibian</td><td>eastern and southern Africa</td></tr><tr><th>9</th><td>9</td><td>African Forest Elephant</td><td>Mammal</td><td>central and southern Africa</td></tr><tr><th>10</th><td>10</td><td>African Palm Civet</td><td>Mammal</td><td>eastern Africa</td></tr><tr><th>11</th><td>11</td><td>African Penguin</td><td>Bird</td><td>south-west African coast</td></tr><tr><th>12</th><td>12</td><td>African Tree Toad</td><td>NA</td><td>Central Africa</td></tr><tr><th>13</th><td>13</td><td>African Wild Dog</td><td>Mammal</td><td>sub-Saharan Africa</td></tr><tr><th>14</th><td>14</td><td>Ainu Dog</td><td>Dog</td><td>NA</td></tr><tr><th>15</th><td>15</td><td>Airedale Terrier</td><td>Dog</td><td>NA</td></tr><tr><th>16</th><td>16</td><td>Akbash</td><td>Dog</td><td>NA</td></tr><tr><th>17</th><td>17</td><td>Akita</td><td>Dog</td><td>NA</td></tr><tr><th>18</th><td>18</td><td>Alaskan Malamute</td><td>Dog</td><td>NA</td></tr><tr><th>19</th><td>19</td><td>Albatross</td><td>Bird</td><td>across the southern seas</td></tr><tr><th>20</th><td>20</td><td>Aldabra Giant Tortoise</td><td>Reptile</td><td>Aldabra atoll in the Indian Ocean</td></tr><tr><th>21</th><td>21</td><td>Alligator</td><td>Reptile</td><td>southern USA and China</td></tr><tr><th>22</th><td>22</td><td>Alpine Dachsbracke</td><td>Dog</td><td>NA</td></tr><tr><th>23</th><td>23</td><td>American Bulldog</td><td>Dog</td><td>NA</td></tr><tr><th>24</th><td>24</td><td>American Cocker Spaniel</td><td>Dog</td><td>NA</td></tr><tr><th>25</th><td>25</td><td>American Coonhound</td><td>Dog</td><td>NA</td></tr><tr><th>26</th><td>26</td><td>American Eskimo Dog</td><td>Dog</td><td>NA</td></tr><tr><th>27</th><td>27</td><td>American Foxhound</td><td>Dog</td><td>NA</td></tr><tr><th>28</th><td>28</td><td>American Pit Bull Terrier</td><td>Dog</td><td>NA</td></tr><tr><th>29</th><td>29</td><td>American Staffordshire Terrier</td><td>Mastiff</td><td>NA</td></tr><tr><th>30</th><td>30</td><td>American Water Spaniel</td><td>Gun Dog</td><td>NA</td></tr><tr><th>&vellip;</th><td>&vellip;</td><td>&vellip;</td><td>&vellip;</td><td>&vellip;</td></tr></tbody></table>"
      ],
      "text/latex": [
       "\\begin{tabular}{r|ccccc}\n",
       "\t& Index & Name & Group & Location & \\\\\n",
       "\t\\hline\n",
       "\t& Int64 & String & String & String & \\\\\n",
       "\t\\hline\n",
       "\t1 & 1 & Aardvark & Mammal & Sub-Saharan Africa & $\\dots$ \\\\\n",
       "\t2 & 2 & Abyssinian & Cat & NA & $\\dots$ \\\\\n",
       "\t3 & 3 & Adelie Penguin & Bird & Coastal Antarctica & $\\dots$ \\\\\n",
       "\t4 & 4 & Affenpinscher & Dog & NA & $\\dots$ \\\\\n",
       "\t5 & 5 & Afghan Hound & Dog & NA & $\\dots$ \\\\\n",
       "\t6 & 6 & African Bush Elephant & Mammal & central and southern Africa & $\\dots$ \\\\\n",
       "\t7 & 7 & African Civet & Mammal & across sub-Saharan Africa & $\\dots$ \\\\\n",
       "\t8 & 8 & African Clawed Frog & Amphibian & eastern and southern Africa & $\\dots$ \\\\\n",
       "\t9 & 9 & African Forest Elephant & Mammal & central and southern Africa & $\\dots$ \\\\\n",
       "\t10 & 10 & African Palm Civet & Mammal & eastern Africa & $\\dots$ \\\\\n",
       "\t11 & 11 & African Penguin & Bird & south-west African coast & $\\dots$ \\\\\n",
       "\t12 & 12 & African Tree Toad & NA & Central Africa & $\\dots$ \\\\\n",
       "\t13 & 13 & African Wild Dog & Mammal & sub-Saharan Africa & $\\dots$ \\\\\n",
       "\t14 & 14 & Ainu Dog & Dog & NA & $\\dots$ \\\\\n",
       "\t15 & 15 & Airedale Terrier & Dog & NA & $\\dots$ \\\\\n",
       "\t16 & 16 & Akbash & Dog & NA & $\\dots$ \\\\\n",
       "\t17 & 17 & Akita & Dog & NA & $\\dots$ \\\\\n",
       "\t18 & 18 & Alaskan Malamute & Dog & NA & $\\dots$ \\\\\n",
       "\t19 & 19 & Albatross & Bird & across the southern seas & $\\dots$ \\\\\n",
       "\t20 & 20 & Aldabra Giant Tortoise & Reptile & Aldabra atoll in the Indian Ocean & $\\dots$ \\\\\n",
       "\t21 & 21 & Alligator & Reptile & southern USA and China & $\\dots$ \\\\\n",
       "\t22 & 22 & Alpine Dachsbracke & Dog & NA & $\\dots$ \\\\\n",
       "\t23 & 23 & American Bulldog & Dog & NA & $\\dots$ \\\\\n",
       "\t24 & 24 & American Cocker Spaniel & Dog & NA & $\\dots$ \\\\\n",
       "\t25 & 25 & American Coonhound & Dog & NA & $\\dots$ \\\\\n",
       "\t26 & 26 & American Eskimo Dog & Dog & NA & $\\dots$ \\\\\n",
       "\t27 & 27 & American Foxhound & Dog & NA & $\\dots$ \\\\\n",
       "\t28 & 28 & American Pit Bull Terrier & Dog & NA & $\\dots$ \\\\\n",
       "\t29 & 29 & American Staffordshire Terrier & Mastiff & NA & $\\dots$ \\\\\n",
       "\t30 & 30 & American Water Spaniel & Gun Dog & NA & $\\dots$ \\\\\n",
       "\t$\\dots$ & $\\dots$ & $\\dots$ & $\\dots$ & $\\dots$ &  \\\\\n",
       "\\end{tabular}\n"
      ],
      "text/plain": [
       "593×8 DataFrame. Omitted printing of 5 columns\n",
       "│ Row │ Index │ Name                    │ Group     │\n",
       "│     │ \u001b[90mInt64\u001b[39m │ \u001b[90mString\u001b[39m                  │ \u001b[90mString\u001b[39m    │\n",
       "├─────┼───────┼─────────────────────────┼───────────┤\n",
       "│ 1   │ 1     │ Aardvark                │ Mammal    │\n",
       "│ 2   │ 2     │ Abyssinian              │ Cat       │\n",
       "│ 3   │ 3     │ Adelie Penguin          │ Bird      │\n",
       "│ 4   │ 4     │ Affenpinscher           │ Dog       │\n",
       "│ 5   │ 5     │ Afghan Hound            │ Dog       │\n",
       "│ 6   │ 6     │ African Bush Elephant   │ Mammal    │\n",
       "│ 7   │ 7     │ African Civet           │ Mammal    │\n",
       "│ 8   │ 8     │ African Clawed Frog     │ Amphibian │\n",
       "│ 9   │ 9     │ African Forest Elephant │ Mammal    │\n",
       "│ 10  │ 10    │ African Palm Civet      │ Mammal    │\n",
       "⋮\n",
       "│ 583 │ 583   │ Woolly Monkey           │ NA        │\n",
       "│ 584 │ 584   │ Wrasse                  │ NA        │\n",
       "│ 585 │ 585   │ X-Ray Tetra             │ Fish      │\n",
       "│ 586 │ 586   │ Yak                     │ NA        │\n",
       "│ 587 │ 587   │ Yellow-Eyed Penguin     │ NA        │\n",
       "│ 588 │ 588   │ Yorkshire Terrier       │ Terrier   │\n",
       "│ 589 │ 589   │ Zebra                   │ Mammal    │\n",
       "│ 590 │ 590   │ Zebra Shark             │ NA        │\n",
       "│ 591 │ 591   │ Zebu                    │ NA        │\n",
       "│ 592 │ 592   │ Zonkey                  │ Mammal    │\n",
       "│ 593 │ 593   │ Zorse                   │ Mammal    │"
      ]
     },
     "execution_count": 20,
     "metadata": {},
     "output_type": "execute_result"
    }
   ],
   "source": [
    "animals_new_df = animals_df[[:Index,:Name,:Group,:Location,:Habitat, Symbol(\"Conservation Status\"), Symbol(\"Estimated Population Size\"), Symbol(\"Biggest Threat\")]]\n",
    "# change the columns' names into the standard format"
   ]
  },
  {
   "cell_type": "code",
   "execution_count": 22,
   "metadata": {},
   "outputs": [
    {
     "name": "stderr",
     "output_type": "stream",
     "text": [
      "┌ Warning: `getindex(df::DataFrame, col_ind::ColumnIndex)` is deprecated, use `df[!, col_ind]` instead.\n",
      "│   caller = top-level scope at In[22]:1\n",
      "└ @ Core In[22]:1\n",
      "┌ Warning: `getindex(df::DataFrame, col_ind::ColumnIndex)` is deprecated, use `df[!, col_ind]` instead.\n",
      "│   caller = top-level scope at In[22]:2\n",
      "└ @ Core In[22]:2\n",
      "┌ Warning: `getindex(df::DataFrame, col_ind::ColumnIndex)` is deprecated, use `df[!, col_ind]` instead.\n",
      "│   caller = top-level scope at In[22]:3\n",
      "└ @ Core In[22]:3\n",
      "┌ Warning: `getindex(df::DataFrame, col_ind::ColumnIndex)` is deprecated, use `df[!, col_ind]` instead.\n",
      "│   caller = top-level scope at In[22]:4\n",
      "└ @ Core In[22]:4\n",
      "┌ Warning: `getindex(df::DataFrame, col_ind::ColumnIndex)` is deprecated, use `df[!, col_ind]` instead.\n",
      "│   caller = top-level scope at In[22]:5\n",
      "└ @ Core In[22]:5\n"
     ]
    },
    {
     "data": {
      "text/html": [
       "<table class=\"data-frame\"><thead><tr><th></th><th>Index</th><th>Name</th><th>Group</th><th>Location</th></tr><tr><th></th><th>Int64</th><th>String</th><th>String</th><th>String</th></tr></thead><tbody><p>444 rows × 8 columns (omitted printing of 4 columns)</p><tr><th>1</th><td>1</td><td>Aardvark</td><td>Mammal</td><td>Sub-Saharan Africa</td></tr><tr><th>2</th><td>3</td><td>Adelie Penguin</td><td>Bird</td><td>Coastal Antarctica</td></tr><tr><th>3</th><td>6</td><td>African Bush Elephant</td><td>Mammal</td><td>central and southern Africa</td></tr><tr><th>4</th><td>7</td><td>African Civet</td><td>Mammal</td><td>across sub-Saharan Africa</td></tr><tr><th>5</th><td>8</td><td>African Clawed Frog</td><td>Amphibian</td><td>eastern and southern Africa</td></tr><tr><th>6</th><td>9</td><td>African Forest Elephant</td><td>Mammal</td><td>central and southern Africa</td></tr><tr><th>7</th><td>10</td><td>African Palm Civet</td><td>Mammal</td><td>eastern Africa</td></tr><tr><th>8</th><td>11</td><td>African Penguin</td><td>Bird</td><td>south-west African coast</td></tr><tr><th>9</th><td>12</td><td>African Tree Toad</td><td>NA</td><td>Central Africa</td></tr><tr><th>10</th><td>13</td><td>African Wild Dog</td><td>Mammal</td><td>sub-Saharan Africa</td></tr><tr><th>11</th><td>19</td><td>Albatross</td><td>Bird</td><td>across the southern seas</td></tr><tr><th>12</th><td>20</td><td>Aldabra Giant Tortoise</td><td>Reptile</td><td>Aldabra atoll in the Indian Ocean</td></tr><tr><th>13</th><td>21</td><td>Alligator</td><td>Reptile</td><td>southern USA and China</td></tr><tr><th>14</th><td>32</td><td>Angelfish</td><td>NA</td><td>NA</td></tr><tr><th>15</th><td>33</td><td>Ant</td><td>NA</td><td>Worldwide</td></tr><tr><th>16</th><td>34</td><td>Anteater</td><td>NA</td><td>NA</td></tr><tr><th>17</th><td>35</td><td>Antelope</td><td>NA</td><td>NA</td></tr><tr><th>18</th><td>37</td><td>Arctic Fox</td><td>NA</td><td>NA</td></tr><tr><th>19</th><td>38</td><td>Arctic Hare</td><td>NA</td><td>NA</td></tr><tr><th>20</th><td>39</td><td>Arctic Wolf</td><td>NA</td><td>NA</td></tr><tr><th>21</th><td>40</td><td>Armadillo</td><td>NA</td><td>NA</td></tr><tr><th>22</th><td>41</td><td>Asian Elephant</td><td>NA</td><td>NA</td></tr><tr><th>23</th><td>42</td><td>Asian Giant Hornet</td><td>Wasp</td><td>Eastern Asia</td></tr><tr><th>24</th><td>43</td><td>Asian Palm Civet</td><td>NA</td><td>NA</td></tr><tr><th>25</th><td>44</td><td>Asiatic Black Bear</td><td>Mammal</td><td>Central and Southern Asia, Russia and Japan</td></tr><tr><th>26</th><td>50</td><td>Avocet</td><td>NA</td><td>NA</td></tr><tr><th>27</th><td>51</td><td>Axolotl</td><td>NA</td><td>NA</td></tr><tr><th>28</th><td>52</td><td>Aye Aye</td><td>Mammal</td><td>Eastern coast of Madagascar</td></tr><tr><th>29</th><td>53</td><td>Baboon</td><td>Mammal</td><td>Africa and Western Arabia</td></tr><tr><th>30</th><td>54</td><td>Bactrian Camel</td><td>NA</td><td>NA</td></tr><tr><th>&vellip;</th><td>&vellip;</td><td>&vellip;</td><td>&vellip;</td><td>&vellip;</td></tr></tbody></table>"
      ],
      "text/latex": [
       "\\begin{tabular}{r|ccccc}\n",
       "\t& Index & Name & Group & Location & \\\\\n",
       "\t\\hline\n",
       "\t& Int64 & String & String & String & \\\\\n",
       "\t\\hline\n",
       "\t1 & 1 & Aardvark & Mammal & Sub-Saharan Africa & $\\dots$ \\\\\n",
       "\t2 & 3 & Adelie Penguin & Bird & Coastal Antarctica & $\\dots$ \\\\\n",
       "\t3 & 6 & African Bush Elephant & Mammal & central and southern Africa & $\\dots$ \\\\\n",
       "\t4 & 7 & African Civet & Mammal & across sub-Saharan Africa & $\\dots$ \\\\\n",
       "\t5 & 8 & African Clawed Frog & Amphibian & eastern and southern Africa & $\\dots$ \\\\\n",
       "\t6 & 9 & African Forest Elephant & Mammal & central and southern Africa & $\\dots$ \\\\\n",
       "\t7 & 10 & African Palm Civet & Mammal & eastern Africa & $\\dots$ \\\\\n",
       "\t8 & 11 & African Penguin & Bird & south-west African coast & $\\dots$ \\\\\n",
       "\t9 & 12 & African Tree Toad & NA & Central Africa & $\\dots$ \\\\\n",
       "\t10 & 13 & African Wild Dog & Mammal & sub-Saharan Africa & $\\dots$ \\\\\n",
       "\t11 & 19 & Albatross & Bird & across the southern seas & $\\dots$ \\\\\n",
       "\t12 & 20 & Aldabra Giant Tortoise & Reptile & Aldabra atoll in the Indian Ocean & $\\dots$ \\\\\n",
       "\t13 & 21 & Alligator & Reptile & southern USA and China & $\\dots$ \\\\\n",
       "\t14 & 32 & Angelfish & NA & NA & $\\dots$ \\\\\n",
       "\t15 & 33 & Ant & NA & Worldwide & $\\dots$ \\\\\n",
       "\t16 & 34 & Anteater & NA & NA & $\\dots$ \\\\\n",
       "\t17 & 35 & Antelope & NA & NA & $\\dots$ \\\\\n",
       "\t18 & 37 & Arctic Fox & NA & NA & $\\dots$ \\\\\n",
       "\t19 & 38 & Arctic Hare & NA & NA & $\\dots$ \\\\\n",
       "\t20 & 39 & Arctic Wolf & NA & NA & $\\dots$ \\\\\n",
       "\t21 & 40 & Armadillo & NA & NA & $\\dots$ \\\\\n",
       "\t22 & 41 & Asian Elephant & NA & NA & $\\dots$ \\\\\n",
       "\t23 & 42 & Asian Giant Hornet & Wasp & Eastern Asia & $\\dots$ \\\\\n",
       "\t24 & 43 & Asian Palm Civet & NA & NA & $\\dots$ \\\\\n",
       "\t25 & 44 & Asiatic Black Bear & Mammal & Central and Southern Asia, Russia and Japan & $\\dots$ \\\\\n",
       "\t26 & 50 & Avocet & NA & NA & $\\dots$ \\\\\n",
       "\t27 & 51 & Axolotl & NA & NA & $\\dots$ \\\\\n",
       "\t28 & 52 & Aye Aye & Mammal & Eastern coast of Madagascar & $\\dots$ \\\\\n",
       "\t29 & 53 & Baboon & Mammal & Africa and Western Arabia & $\\dots$ \\\\\n",
       "\t30 & 54 & Bactrian Camel & NA & NA & $\\dots$ \\\\\n",
       "\t$\\dots$ & $\\dots$ & $\\dots$ & $\\dots$ & $\\dots$ &  \\\\\n",
       "\\end{tabular}\n"
      ],
      "text/plain": [
       "444×8 DataFrame. Omitted printing of 5 columns\n",
       "│ Row │ Index │ Name                    │ Group     │\n",
       "│     │ \u001b[90mInt64\u001b[39m │ \u001b[90mString\u001b[39m                  │ \u001b[90mString\u001b[39m    │\n",
       "├─────┼───────┼─────────────────────────┼───────────┤\n",
       "│ 1   │ 1     │ Aardvark                │ Mammal    │\n",
       "│ 2   │ 3     │ Adelie Penguin          │ Bird      │\n",
       "│ 3   │ 6     │ African Bush Elephant   │ Mammal    │\n",
       "│ 4   │ 7     │ African Civet           │ Mammal    │\n",
       "│ 5   │ 8     │ African Clawed Frog     │ Amphibian │\n",
       "│ 6   │ 9     │ African Forest Elephant │ Mammal    │\n",
       "│ 7   │ 10    │ African Palm Civet      │ Mammal    │\n",
       "│ 8   │ 11    │ African Penguin         │ Bird      │\n",
       "│ 9   │ 12    │ African Tree Toad       │ NA        │\n",
       "│ 10  │ 13    │ African Wild Dog        │ Mammal    │\n",
       "⋮\n",
       "│ 434 │ 579   │ Wombat                  │ NA        │\n",
       "│ 435 │ 580   │ Woodlouse               │ NA        │\n",
       "│ 436 │ 581   │ Woodpecker              │ NA        │\n",
       "│ 437 │ 582   │ Woolly Mammoth          │ NA        │\n",
       "│ 438 │ 583   │ Woolly Monkey           │ NA        │\n",
       "│ 439 │ 584   │ Wrasse                  │ NA        │\n",
       "│ 440 │ 586   │ Yak                     │ NA        │\n",
       "│ 441 │ 587   │ Yellow-Eyed Penguin     │ NA        │\n",
       "│ 442 │ 589   │ Zebra                   │ Mammal    │\n",
       "│ 443 │ 590   │ Zebra Shark             │ NA        │\n",
       "│ 444 │ 591   │ Zebu                    │ NA        │"
      ]
     },
     "execution_count": 22,
     "metadata": {},
     "output_type": "execute_result"
    }
   ],
   "source": [
    "animals_1 = animals_new_df[animals_new_df[Symbol(\"Conservation Status\")].!=[\"NA\"],:]\n",
    "animals_2 = animals_1[animals_1[Symbol(\"Conservation Status\")].!=[\"Common\"],:]\n",
    "animals_3 = animals_2[animals_2[Symbol(\"Conservation Status\")].!=[\"Not Listed\"],:]\n",
    "animals_4 = animals_3[animals_3[Symbol(\"Conservation Status\")].!=[\"Data Deficient\"],:]\n",
    "animals_5 = animals_4[animals_4[Symbol(\"Conservation Status\")].!=[\"Least Concern, Vulnerable, Critically Endangered\"],:]\n",
    "# delete useless data in the \"Conservation Status\" column"
   ]
  },
  {
   "cell_type": "code",
   "execution_count": 23,
   "metadata": {},
   "outputs": [
    {
     "data": {
      "text/html": [
       "<table class=\"data-frame\"><thead><tr><th></th><th>Conservation Status</th><th>x1</th></tr><tr><th></th><th>String</th><th>Int64</th></tr></thead><tbody><p>7 rows × 2 columns</p><tr><th>1</th><td>Least Concern</td><td>199</td></tr><tr><th>2</th><td>Threatened</td><td>116</td></tr><tr><th>3</th><td>Endangered</td><td>73</td></tr><tr><th>4</th><td>Vulnerable</td><td>25</td></tr><tr><th>5</th><td>Critically Endangered</td><td>19</td></tr><tr><th>6</th><td>Near Threatened</td><td>7</td></tr><tr><th>7</th><td>Extinct</td><td>5</td></tr></tbody></table>"
      ],
      "text/latex": [
       "\\begin{tabular}{r|cc}\n",
       "\t& Conservation Status & x1\\\\\n",
       "\t\\hline\n",
       "\t& String & Int64\\\\\n",
       "\t\\hline\n",
       "\t1 & Least Concern & 199 \\\\\n",
       "\t2 & Threatened & 116 \\\\\n",
       "\t3 & Endangered & 73 \\\\\n",
       "\t4 & Vulnerable & 25 \\\\\n",
       "\t5 & Critically Endangered & 19 \\\\\n",
       "\t6 & Near Threatened & 7 \\\\\n",
       "\t7 & Extinct & 5 \\\\\n",
       "\\end{tabular}\n"
      ],
      "text/plain": [
       "7×2 DataFrame\n",
       "│ Row │ Conservation Status   │ x1    │\n",
       "│     │ \u001b[90mString\u001b[39m                │ \u001b[90mInt64\u001b[39m │\n",
       "├─────┼───────────────────────┼───────┤\n",
       "│ 1   │ Least Concern         │ 199   │\n",
       "│ 2   │ Threatened            │ 116   │\n",
       "│ 3   │ Endangered            │ 73    │\n",
       "│ 4   │ Vulnerable            │ 25    │\n",
       "│ 5   │ Critically Endangered │ 19    │\n",
       "│ 6   │ Near Threatened       │ 7     │\n",
       "│ 7   │ Extinct               │ 5     │"
      ]
     },
     "execution_count": 23,
     "metadata": {},
     "output_type": "execute_result"
    }
   ],
   "source": [
    "by(animals_5, Symbol(\"Conservation Status\") , nrow)\n",
    "# Group the animals by conservation status"
   ]
  },
  {
   "cell_type": "code",
   "execution_count": 24,
   "metadata": {},
   "outputs": [
    {
     "name": "stderr",
     "output_type": "stream",
     "text": [
      "┌ Warning: `getindex(df::DataFrame, col_ind::ColumnIndex)` is deprecated, use `df[!, col_ind]` instead.\n",
      "│   caller = top-level scope at In[24]:1\n",
      "└ @ Core In[24]:1\n",
      "┌ Warning: `getindex(df::DataFrame, col_ind::ColumnIndex)` is deprecated, use `df[!, col_ind]` instead.\n",
      "│   caller = top-level scope at In[24]:2\n",
      "└ @ Core In[24]:2\n",
      "┌ Warning: `getindex(df::DataFrame, col_ind::ColumnIndex)` is deprecated, use `df[!, col_ind]` instead.\n",
      "│   caller = top-level scope at In[24]:3\n",
      "└ @ Core In[24]:3\n"
     ]
    },
    {
     "data": {
      "text/html": [
       "<table class=\"data-frame\"><thead><tr><th></th><th>Index</th><th>Name</th><th>Group</th><th>Location</th></tr><tr><th></th><th>Int64</th><th>String</th><th>String</th><th>String</th></tr></thead><tbody><p>122 rows × 8 columns (omitted printing of 4 columns)</p><tr><th>1</th><td>9</td><td>African Forest Elephant</td><td>Mammal</td><td>central and southern Africa</td></tr><tr><th>2</th><td>11</td><td>African Penguin</td><td>Bird</td><td>south-west African coast</td></tr><tr><th>3</th><td>13</td><td>African Wild Dog</td><td>Mammal</td><td>sub-Saharan Africa</td></tr><tr><th>4</th><td>19</td><td>Albatross</td><td>Bird</td><td>across the southern seas</td></tr><tr><th>5</th><td>20</td><td>Aldabra Giant Tortoise</td><td>Reptile</td><td>Aldabra atoll in the Indian Ocean</td></tr><tr><th>6</th><td>40</td><td>Armadillo</td><td>NA</td><td>NA</td></tr><tr><th>7</th><td>41</td><td>Asian Elephant</td><td>NA</td><td>NA</td></tr><tr><th>8</th><td>43</td><td>Asian Palm Civet</td><td>NA</td><td>NA</td></tr><tr><th>9</th><td>44</td><td>Asiatic Black Bear</td><td>Mammal</td><td>Central and Southern Asia, Russia and Japan</td></tr><tr><th>10</th><td>51</td><td>Axolotl</td><td>NA</td><td>NA</td></tr><tr><th>11</th><td>52</td><td>Aye Aye</td><td>Mammal</td><td>Eastern coast of Madagascar</td></tr><tr><th>12</th><td>54</td><td>Bactrian Camel</td><td>NA</td><td>NA</td></tr><tr><th>13</th><td>57</td><td>Banded Palm Civet</td><td>NA</td><td>NA</td></tr><tr><th>14</th><td>58</td><td>Bandicoot</td><td>NA</td><td>NA</td></tr><tr><th>15</th><td>69</td><td>Bear</td><td>NA</td><td>NA</td></tr><tr><th>16</th><td>75</td><td>Bengal Tiger</td><td>NA</td><td>NA</td></tr><tr><th>17</th><td>78</td><td>Binturong</td><td>Mammal</td><td>Throughout South-East Asia</td></tr><tr><th>18</th><td>84</td><td>Black Rhinoceros</td><td>NA</td><td>NA</td></tr><tr><th>19</th><td>89</td><td>Blue Whale</td><td>Mammal</td><td>Oceans worldwide</td></tr><tr><th>20</th><td>95</td><td>Bonobo</td><td>NA</td><td>NA</td></tr><tr><th>21</th><td>99</td><td>Bornean Orang-utan</td><td>Mammal</td><td>Borneo</td></tr><tr><th>22</th><td>100</td><td>Borneo Elephant</td><td>NA</td><td>NA</td></tr><tr><th>23</th><td>106</td><td>Brown Bear</td><td>NA</td><td>NA</td></tr><tr><th>24</th><td>118</td><td>Butterfly Fish</td><td>NA</td><td>NA</td></tr><tr><th>25</th><td>127</td><td>Cassowary</td><td>NA</td><td>NA</td></tr><tr><th>26</th><td>136</td><td>Cheetah</td><td>Mammal</td><td>Asia and Africa</td></tr><tr><th>27</th><td>140</td><td>Chimpanzee</td><td>Mammal</td><td>Western and Central Africa</td></tr><tr><th>28</th><td>141</td><td>Chinchilla</td><td>NA</td><td>NA</td></tr><tr><th>29</th><td>148</td><td>Clouded Leopard</td><td>Mammal</td><td>South-east Asia</td></tr><tr><th>30</th><td>160</td><td>Cottontop Tamarin</td><td>NA</td><td>NA</td></tr><tr><th>&vellip;</th><td>&vellip;</td><td>&vellip;</td><td>&vellip;</td><td>&vellip;</td></tr></tbody></table>"
      ],
      "text/latex": [
       "\\begin{tabular}{r|ccccc}\n",
       "\t& Index & Name & Group & Location & \\\\\n",
       "\t\\hline\n",
       "\t& Int64 & String & String & String & \\\\\n",
       "\t\\hline\n",
       "\t1 & 9 & African Forest Elephant & Mammal & central and southern Africa & $\\dots$ \\\\\n",
       "\t2 & 11 & African Penguin & Bird & south-west African coast & $\\dots$ \\\\\n",
       "\t3 & 13 & African Wild Dog & Mammal & sub-Saharan Africa & $\\dots$ \\\\\n",
       "\t4 & 19 & Albatross & Bird & across the southern seas & $\\dots$ \\\\\n",
       "\t5 & 20 & Aldabra Giant Tortoise & Reptile & Aldabra atoll in the Indian Ocean & $\\dots$ \\\\\n",
       "\t6 & 40 & Armadillo & NA & NA & $\\dots$ \\\\\n",
       "\t7 & 41 & Asian Elephant & NA & NA & $\\dots$ \\\\\n",
       "\t8 & 43 & Asian Palm Civet & NA & NA & $\\dots$ \\\\\n",
       "\t9 & 44 & Asiatic Black Bear & Mammal & Central and Southern Asia, Russia and Japan & $\\dots$ \\\\\n",
       "\t10 & 51 & Axolotl & NA & NA & $\\dots$ \\\\\n",
       "\t11 & 52 & Aye Aye & Mammal & Eastern coast of Madagascar & $\\dots$ \\\\\n",
       "\t12 & 54 & Bactrian Camel & NA & NA & $\\dots$ \\\\\n",
       "\t13 & 57 & Banded Palm Civet & NA & NA & $\\dots$ \\\\\n",
       "\t14 & 58 & Bandicoot & NA & NA & $\\dots$ \\\\\n",
       "\t15 & 69 & Bear & NA & NA & $\\dots$ \\\\\n",
       "\t16 & 75 & Bengal Tiger & NA & NA & $\\dots$ \\\\\n",
       "\t17 & 78 & Binturong & Mammal & Throughout South-East Asia & $\\dots$ \\\\\n",
       "\t18 & 84 & Black Rhinoceros & NA & NA & $\\dots$ \\\\\n",
       "\t19 & 89 & Blue Whale & Mammal & Oceans worldwide & $\\dots$ \\\\\n",
       "\t20 & 95 & Bonobo & NA & NA & $\\dots$ \\\\\n",
       "\t21 & 99 & Bornean Orang-utan & Mammal & Borneo & $\\dots$ \\\\\n",
       "\t22 & 100 & Borneo Elephant & NA & NA & $\\dots$ \\\\\n",
       "\t23 & 106 & Brown Bear & NA & NA & $\\dots$ \\\\\n",
       "\t24 & 118 & Butterfly Fish & NA & NA & $\\dots$ \\\\\n",
       "\t25 & 127 & Cassowary & NA & NA & $\\dots$ \\\\\n",
       "\t26 & 136 & Cheetah & Mammal & Asia and Africa & $\\dots$ \\\\\n",
       "\t27 & 140 & Chimpanzee & Mammal & Western and Central Africa & $\\dots$ \\\\\n",
       "\t28 & 141 & Chinchilla & NA & NA & $\\dots$ \\\\\n",
       "\t29 & 148 & Clouded Leopard & Mammal & South-east Asia & $\\dots$ \\\\\n",
       "\t30 & 160 & Cottontop Tamarin & NA & NA & $\\dots$ \\\\\n",
       "\t$\\dots$ & $\\dots$ & $\\dots$ & $\\dots$ & $\\dots$ &  \\\\\n",
       "\\end{tabular}\n"
      ],
      "text/plain": [
       "122×8 DataFrame. Omitted printing of 5 columns\n",
       "│ Row │ Index │ Name                    │ Group   │\n",
       "│     │ \u001b[90mInt64\u001b[39m │ \u001b[90mString\u001b[39m                  │ \u001b[90mString\u001b[39m  │\n",
       "├─────┼───────┼─────────────────────────┼─────────┤\n",
       "│ 1   │ 9     │ African Forest Elephant │ Mammal  │\n",
       "│ 2   │ 11    │ African Penguin         │ Bird    │\n",
       "│ 3   │ 13    │ African Wild Dog        │ Mammal  │\n",
       "│ 4   │ 19    │ Albatross               │ Bird    │\n",
       "│ 5   │ 20    │ Aldabra Giant Tortoise  │ Reptile │\n",
       "│ 6   │ 40    │ Armadillo               │ NA      │\n",
       "│ 7   │ 41    │ Asian Elephant          │ NA      │\n",
       "│ 8   │ 43    │ Asian Palm Civet        │ NA      │\n",
       "│ 9   │ 44    │ Asiatic Black Bear      │ Mammal  │\n",
       "│ 10  │ 51    │ Axolotl                 │ NA      │\n",
       "⋮\n",
       "│ 112 │ 557   │ Vulture                 │ NA      │\n",
       "│ 113 │ 562   │ Water Buffalo           │ NA      │\n",
       "│ 114 │ 568   │ Western Gorilla         │ NA      │\n",
       "│ 115 │ 569   │ Western Lowland Gorilla │ NA      │\n",
       "│ 116 │ 573   │ White Rhinoceros        │ NA      │\n",
       "│ 117 │ 574   │ White Tiger             │ Mammal  │\n",
       "│ 118 │ 576   │ Wildebeest              │ NA      │\n",
       "│ 119 │ 579   │ Wombat                  │ NA      │\n",
       "│ 120 │ 582   │ Woolly Mammoth          │ NA      │\n",
       "│ 121 │ 587   │ Yellow-Eyed Penguin     │ NA      │\n",
       "│ 122 │ 589   │ Zebra                   │ Mammal  │"
      ]
     },
     "execution_count": 24,
     "metadata": {},
     "output_type": "execute_result"
    }
   ],
   "source": [
    "animals_6 = animals_5[animals_5[Symbol(\"Conservation Status\")].!=\"Least Concern\",:]\n",
    "animals_7 = animals_6[animals_6[Symbol(\"Conservation Status\")].!=\"Near Threatened\",:]\n",
    "animals_8 = animals_7[animals_7[Symbol(\"Conservation Status\")].!=\"Threatened\",:]\n",
    "# delete some status in the \"Conservation Status\" column"
   ]
  },
  {
   "cell_type": "code",
   "execution_count": 25,
   "metadata": {},
   "outputs": [
    {
     "data": {
      "text/html": [
       "<table class=\"data-frame\"><thead><tr><th></th><th>Conservation Status</th><th>x1</th></tr><tr><th></th><th>String</th><th>Int64</th></tr></thead><tbody><p>4 rows × 2 columns</p><tr><th>1</th><td>Endangered</td><td>73</td></tr><tr><th>2</th><td>Vulnerable</td><td>25</td></tr><tr><th>3</th><td>Critically Endangered</td><td>19</td></tr><tr><th>4</th><td>Extinct</td><td>5</td></tr></tbody></table>"
      ],
      "text/latex": [
       "\\begin{tabular}{r|cc}\n",
       "\t& Conservation Status & x1\\\\\n",
       "\t\\hline\n",
       "\t& String & Int64\\\\\n",
       "\t\\hline\n",
       "\t1 & Endangered & 73 \\\\\n",
       "\t2 & Vulnerable & 25 \\\\\n",
       "\t3 & Critically Endangered & 19 \\\\\n",
       "\t4 & Extinct & 5 \\\\\n",
       "\\end{tabular}\n"
      ],
      "text/plain": [
       "4×2 DataFrame\n",
       "│ Row │ Conservation Status   │ x1    │\n",
       "│     │ \u001b[90mString\u001b[39m                │ \u001b[90mInt64\u001b[39m │\n",
       "├─────┼───────────────────────┼───────┤\n",
       "│ 1   │ Endangered            │ 73    │\n",
       "│ 2   │ Vulnerable            │ 25    │\n",
       "│ 3   │ Critically Endangered │ 19    │\n",
       "│ 4   │ Extinct               │ 5     │"
      ]
     },
     "execution_count": 25,
     "metadata": {},
     "output_type": "execute_result"
    }
   ],
   "source": [
    "by(animals_8, Symbol(\"Conservation Status\") , nrow)\n",
    "# Group the animals by conservation status"
   ]
  },
  {
   "cell_type": "code",
   "execution_count": 27,
   "metadata": {},
   "outputs": [
    {
     "data": {
      "text/html": [
       "<table class=\"data-frame\"><thead><tr><th></th><th>variable</th><th>mean</th><th>min</th><th>median</th></tr><tr><th></th><th>Symbol</th><th>Union…</th><th>Any</th><th>Union…</th></tr></thead><tbody><p>8 rows × 8 columns (omitted printing of 4 columns)</p><tr><th>1</th><td>Index</td><td>323.246</td><td>9</td><td>340.5</td></tr><tr><th>2</th><td>Name</td><td></td><td>African Forest Elephant</td><td></td></tr><tr><th>3</th><td>Group</td><td></td><td>Bird</td><td></td></tr><tr><th>4</th><td>Location</td><td></td><td>A number of south-east Asian islands</td><td></td></tr><tr><th>5</th><td>Habitat</td><td></td><td>Antarctic islands</td><td></td></tr><tr><th>6</th><td>Conservation Status</td><td></td><td>Critically Endangered</td><td></td></tr><tr><th>7</th><td>Estimated Population Size</td><td></td><td>0 in wild</td><td></td></tr><tr><th>8</th><td>Biggest Threat</td><td></td><td>Climate change</td><td></td></tr></tbody></table>"
      ],
      "text/latex": [
       "\\begin{tabular}{r|ccccc}\n",
       "\t& variable & mean & min & median & \\\\\n",
       "\t\\hline\n",
       "\t& Symbol & Union… & Any & Union… & \\\\\n",
       "\t\\hline\n",
       "\t1 & Index & 323.246 & 9 & 340.5 & $\\dots$ \\\\\n",
       "\t2 & Name &  & African Forest Elephant &  & $\\dots$ \\\\\n",
       "\t3 & Group &  & Bird &  & $\\dots$ \\\\\n",
       "\t4 & Location &  & A number of south-east Asian islands &  & $\\dots$ \\\\\n",
       "\t5 & Habitat &  & Antarctic islands &  & $\\dots$ \\\\\n",
       "\t6 & Conservation Status &  & Critically Endangered &  & $\\dots$ \\\\\n",
       "\t7 & Estimated Population Size &  & 0 in wild &  & $\\dots$ \\\\\n",
       "\t8 & Biggest Threat &  & Climate change &  & $\\dots$ \\\\\n",
       "\\end{tabular}\n"
      ],
      "text/plain": [
       "8×8 DataFrame. Omitted printing of 6 columns\n",
       "│ Row │ variable                  │ mean    │\n",
       "│     │ \u001b[90mSymbol\u001b[39m                    │ \u001b[90mUnion…\u001b[39m  │\n",
       "├─────┼───────────────────────────┼─────────┤\n",
       "│ 1   │ Index                     │ 323.246 │\n",
       "│ 2   │ Name                      │         │\n",
       "│ 3   │ Group                     │         │\n",
       "│ 4   │ Location                  │         │\n",
       "│ 5   │ Habitat                   │         │\n",
       "│ 6   │ Conservation Status       │         │\n",
       "│ 7   │ Estimated Population Size │         │\n",
       "│ 8   │ Biggest Threat            │         │"
      ]
     },
     "execution_count": 27,
     "metadata": {},
     "output_type": "execute_result"
    }
   ],
   "source": [
    "animals_8|>\n",
    "  DataFrame |>\n",
    "    describe"
   ]
  }
 ],
 "metadata": {
  "kernelspec": {
   "display_name": "Julia 1.1.1",
   "language": "julia",
   "name": "julia-1.1"
  },
  "language_info": {
   "file_extension": ".jl",
   "mimetype": "application/julia",
   "name": "julia",
   "version": "1.1.1"
  }
 },
 "nbformat": 4,
 "nbformat_minor": 4
}
