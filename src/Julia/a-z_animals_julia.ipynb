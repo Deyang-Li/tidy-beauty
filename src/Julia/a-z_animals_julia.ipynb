{
 "cells": [
  {
   "cell_type": "code",
   "execution_count": 1,
   "metadata": {},
   "outputs": [],
   "source": [
    "using Pkg"
   ]
  },
  {
   "cell_type": "code",
   "execution_count": 2,
   "metadata": {},
   "outputs": [],
   "source": [
    "using CSV, DataFrames"
   ]
  },
  {
   "cell_type": "code",
   "execution_count": 3,
   "metadata": {},
   "outputs": [
    {
     "ename": "ArgumentError",
     "evalue": "ArgumentError: \"a-z-animals.csv\" is not a valid file",
     "output_type": "error",
     "traceback": [
      "ArgumentError: \"a-z-animals.csv\" is not a valid file",
      "",
      "Stacktrace:",
      " [1] checkvalidsource at /Users/dijian/.julia/packages/CSV/KgT4M/src/CSV.jl:95 [inlined]",
      " [2] file(::String, ::Int64, ::Bool, ::Int64, ::Nothing, ::Int64, ::Int64, ::Bool, ::Nothing, ::Bool, ::Bool, ::Array{String,1}, ::String, ::Nothing, ::Bool, ::Char, ::Nothing, ::Nothing, ::Char, ::Nothing, ::UInt8, ::Nothing, ::Nothing, ::Nothing, ::Nothing, ::Dict{Int8,Int8}, ::Bool, ::Float64, ::Bool, ::Bool, ::Bool, ::Bool, ::Nothing) at /Users/dijian/.julia/packages/CSV/KgT4M/src/CSV.jl:243",
      " [3] Type at /Users/dijian/.julia/packages/CSV/KgT4M/src/CSV.jl:195 [inlined]",
      " [4] #read#61 at /Users/dijian/.julia/packages/CSV/KgT4M/src/CSV.jl:688 [inlined]",
      " [5] read(::String) at /Users/dijian/.julia/packages/CSV/KgT4M/src/CSV.jl:688",
      " [6] top-level scope at In[3]:1"
     ]
    }
   ],
   "source": [
    "animals_df = CSV.read(\"a-z-animals.csv\")\n",
    "animals_df |>\n",
    "  DataFrame"
   ]
  },
  {
   "cell_type": "code",
   "execution_count": null,
   "metadata": {},
   "outputs": [],
   "source": [
    "animals_df |> describe "
   ]
  },
  {
   "cell_type": "code",
   "execution_count": null,
   "metadata": {},
   "outputs": [],
   "source": [
    "names(animals_df)"
   ]
  },
  {
   "cell_type": "code",
   "execution_count": null,
   "metadata": {},
   "outputs": [],
   "source": [
    "names!(animals_final_df, [:Index, Symbol(\"Common Name\"), Symbol(\"Endangered Animals of Area\"), Symbol(\"Scientific Name\"), Symbol(\"Group\"), Symbol(\"Status/Date Listed as Endangered\"), Symbol(\"Area(s) Where Listed As Endangered\"), :Area, :Status])\n",
    "# change the columns' names into the standard format"
   ]
  },
  {
   "cell_type": "code",
   "execution_count": null,
   "metadata": {},
   "outputs": [],
   "source": []
  },
  {
   "cell_type": "code",
   "execution_count": null,
   "metadata": {},
   "outputs": [],
   "source": []
  }
 ],
 "metadata": {
  "kernelspec": {
   "display_name": "Julia 1.1.1",
   "language": "julia",
   "name": "julia-1.1"
  },
  "language_info": {
   "file_extension": ".jl",
   "mimetype": "application/julia",
   "name": "julia",
   "version": "1.1.1"
  }
 },
 "nbformat": 4,
 "nbformat_minor": 4
}
